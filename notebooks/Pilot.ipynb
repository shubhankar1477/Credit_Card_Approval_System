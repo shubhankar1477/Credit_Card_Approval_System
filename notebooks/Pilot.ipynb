{
 "cells": [
  {
   "cell_type": "code",
   "execution_count": 13,
   "id": "9adb0dc9-5c51-4dac-8fa0-419ca36af5f2",
   "metadata": {},
   "outputs": [],
   "source": [
    "import pandas as pd\n",
    "import numpy as np\n",
    "from IPython.display import  display,HTML\n",
    "import seaborn as sns\n",
    "import sys \n",
    "sys.path.insert(0, '../Credit_Card_Approval_Classification')\n",
    "import utility\n",
    "import config"
   ]
  },
  {
   "cell_type": "code",
   "execution_count": 14,
   "id": "3520ef58-2861-4fd6-9014-4dbb2b829534",
   "metadata": {},
   "outputs": [],
   "source": [
    "credit_card_dataset=pd.read_csv(config.TRAINING_FILE)"
   ]
  },
  {
   "cell_type": "code",
   "execution_count": null,
   "id": "d2457dc7-0ace-405f-a11e-294167685a63",
   "metadata": {},
   "outputs": [],
   "source": [
    "utility."
   ]
  },
  {
   "cell_type": "code",
   "execution_count": 144,
   "id": "96f0703f-b7bf-4388-a9b6-3f598215d84b",
   "metadata": {},
   "outputs": [],
   "source": [
    "df1=pd.read_csv(\"data/dataset.csv\")"
   ]
  },
  {
   "cell_type": "code",
   "execution_count": 146,
   "id": "a34356ab-5650-4ab6-ac6e-fbcf034f02b4",
   "metadata": {},
   "outputs": [
    {
     "name": "stderr",
     "output_type": "stream",
     "text": [
      "/opt/anaconda3/lib/python3.9/site-packages/seaborn/distributions.py:2619: FutureWarning: `distplot` is a deprecated function and will be removed in a future version. Please adapt your code to use either `displot` (a figure-level function with similar flexibility) or `histplot` (an axes-level function for histograms).\n",
      "  warnings.warn(msg, FutureWarning)\n"
     ]
    },
    {
     "data": {
      "text/plain": [
       "<AxesSubplot:xlabel='Years Employed', ylabel='Density'>"
      ]
     },
     "execution_count": 146,
     "metadata": {},
     "output_type": "execute_result"
    },
    {
     "data": {
      "image/png": "[encoded data removed]",
      "text/plain": [
       "<Figure size 864x576 with 1 Axes>"
      ]
     },
     "metadata": {
      "needs_background": "light"
     },
     "output_type": "display_data"
    }
   ],
   "source": [
    "dim = (12, 8)\n",
    "fig, ax = plt.subplots(figsize = dim)\n",
    "p = features_to_scale[2]\n",
    "sns.distplot(df1[p])"
   ]
  },
  {
   "cell_type": "code",
   "execution_count": 76,
   "id": "319bfc52-9490-43b5-a73c-f12ef80dd0da",
   "metadata": {},
   "outputs": [],
   "source": [
    "credit_card_dataset.drop(\"Unnamed: 0\",inplace=True,axis=1)"
   ]
  },
  {
   "cell_type": "markdown",
   "id": "476bced3-b70f-4f5f-bf18-2e66be21765c",
   "metadata": {},
   "source": [
    "### EDA"
   ]
  },
  {
   "cell_type": "code",
   "execution_count": 51,
   "id": "e728b576-6d66-4c9c-8de4-76e303281d2b",
   "metadata": {},
   "outputs": [
    {
     "data": {
      "text/plain": [
       "-    383\n",
       "+    307\n",
       "Name: Approved, dtype: int64"
      ]
     },
     "execution_count": 51,
     "metadata": {},
     "output_type": "execute_result"
    }
   ],
   "source": [
    "credit_card_dataset.Approved.value_counts()"
   ]
  },
  {
   "cell_type": "markdown",
   "id": "4a6b8661-84ae-4c5e-914f-ae8e327813a7",
   "metadata": {
    "tags": []
   },
   "source": [
    "### data is not  imbalanced\n",
    "###"
   ]
  },
  {
   "cell_type": "code",
   "execution_count": 118,
   "id": "758d41a0-f480-4352-b9d1-d347beb08db1",
   "metadata": {},
   "outputs": [
    {
     "data": {
      "text/html": [
       "<div>\n",
       "<style scoped>\n",
       "    .dataframe tbody tr th:only-of-type {\n",
       "        vertical-align: middle;\n",
       "    }\n",
       "\n",
       "    .dataframe tbody tr th {\n",
       "        vertical-align: top;\n",
       "    }\n",
       "\n",
       "    .dataframe thead th {\n",
       "        text-align: right;\n",
       "    }\n",
       "</style>\n",
       "<table border=\"1\" class=\"dataframe\">\n",
       "  <thead>\n",
       "    <tr style=\"text-align: right;\">\n",
       "      <th></th>\n",
       "      <th>Gender</th>\n",
       "      <th>Age</th>\n",
       "      <th>Debt</th>\n",
       "      <th>Married</th>\n",
       "      <th>Bank Customer</th>\n",
       "      <th>Education</th>\n",
       "      <th>Ethnicity</th>\n",
       "      <th>Years Employed</th>\n",
       "      <th>Prior Default</th>\n",
       "      <th>Employed</th>\n",
       "      <th>...</th>\n",
       "      <th>Gender_encoded</th>\n",
       "      <th>Married_encoded</th>\n",
       "      <th>Bank Customer_encoded</th>\n",
       "      <th>Education_encoded</th>\n",
       "      <th>Ethnicity_encoded</th>\n",
       "      <th>Prior Default_encoded</th>\n",
       "      <th>Employed_encoded</th>\n",
       "      <th>Driving License_encoded</th>\n",
       "      <th>Citizenship_encoded</th>\n",
       "      <th>Approved_encoded</th>\n",
       "    </tr>\n",
       "  </thead>\n",
       "  <tbody>\n",
       "    <tr>\n",
       "      <th>0</th>\n",
       "      <td>b</td>\n",
       "      <td>-0.062321</td>\n",
       "      <td>-0.956613</td>\n",
       "      <td>u</td>\n",
       "      <td>g</td>\n",
       "      <td>w</td>\n",
       "      <td>v</td>\n",
       "      <td>-0.291083</td>\n",
       "      <td>t</td>\n",
       "      <td>t</td>\n",
       "      <td>...</td>\n",
       "      <td>1</td>\n",
       "      <td>1</td>\n",
       "      <td>0</td>\n",
       "      <td>12</td>\n",
       "      <td>7</td>\n",
       "      <td>1</td>\n",
       "      <td>1</td>\n",
       "      <td>0</td>\n",
       "      <td>0</td>\n",
       "      <td>0</td>\n",
       "    </tr>\n",
       "    <tr>\n",
       "      <th>1</th>\n",
       "      <td>a</td>\n",
       "      <td>2.288101</td>\n",
       "      <td>-0.060051</td>\n",
       "      <td>u</td>\n",
       "      <td>g</td>\n",
       "      <td>q</td>\n",
       "      <td>h</td>\n",
       "      <td>0.244190</td>\n",
       "      <td>t</td>\n",
       "      <td>t</td>\n",
       "      <td>...</td>\n",
       "      <td>0</td>\n",
       "      <td>1</td>\n",
       "      <td>0</td>\n",
       "      <td>10</td>\n",
       "      <td>3</td>\n",
       "      <td>1</td>\n",
       "      <td>1</td>\n",
       "      <td>0</td>\n",
       "      <td>0</td>\n",
       "      <td>0</td>\n",
       "    </tr>\n",
       "    <tr>\n",
       "      <th>2</th>\n",
       "      <td>a</td>\n",
       "      <td>-0.596738</td>\n",
       "      <td>-0.856102</td>\n",
       "      <td>u</td>\n",
       "      <td>g</td>\n",
       "      <td>q</td>\n",
       "      <td>h</td>\n",
       "      <td>-0.216324</td>\n",
       "      <td>t</td>\n",
       "      <td>f</td>\n",
       "      <td>...</td>\n",
       "      <td>0</td>\n",
       "      <td>1</td>\n",
       "      <td>0</td>\n",
       "      <td>10</td>\n",
       "      <td>3</td>\n",
       "      <td>1</td>\n",
       "      <td>0</td>\n",
       "      <td>0</td>\n",
       "      <td>0</td>\n",
       "      <td>0</td>\n",
       "    </tr>\n",
       "    <tr>\n",
       "      <th>3</th>\n",
       "      <td>b</td>\n",
       "      <td>-0.315599</td>\n",
       "      <td>-0.647038</td>\n",
       "      <td>u</td>\n",
       "      <td>g</td>\n",
       "      <td>w</td>\n",
       "      <td>v</td>\n",
       "      <td>0.456505</td>\n",
       "      <td>t</td>\n",
       "      <td>t</td>\n",
       "      <td>...</td>\n",
       "      <td>1</td>\n",
       "      <td>1</td>\n",
       "      <td>0</td>\n",
       "      <td>12</td>\n",
       "      <td>7</td>\n",
       "      <td>1</td>\n",
       "      <td>1</td>\n",
       "      <td>1</td>\n",
       "      <td>0</td>\n",
       "      <td>0</td>\n",
       "    </tr>\n",
       "    <tr>\n",
       "      <th>4</th>\n",
       "      <td>b</td>\n",
       "      <td>-0.962303</td>\n",
       "      <td>0.174141</td>\n",
       "      <td>u</td>\n",
       "      <td>g</td>\n",
       "      <td>w</td>\n",
       "      <td>v</td>\n",
       "      <td>-0.153526</td>\n",
       "      <td>t</td>\n",
       "      <td>f</td>\n",
       "      <td>...</td>\n",
       "      <td>1</td>\n",
       "      <td>1</td>\n",
       "      <td>0</td>\n",
       "      <td>12</td>\n",
       "      <td>7</td>\n",
       "      <td>1</td>\n",
       "      <td>0</td>\n",
       "      <td>0</td>\n",
       "      <td>2</td>\n",
       "      <td>0</td>\n",
       "    </tr>\n",
       "    <tr>\n",
       "      <th>...</th>\n",
       "      <td>...</td>\n",
       "      <td>...</td>\n",
       "      <td>...</td>\n",
       "      <td>...</td>\n",
       "      <td>...</td>\n",
       "      <td>...</td>\n",
       "      <td>...</td>\n",
       "      <td>...</td>\n",
       "      <td>...</td>\n",
       "      <td>...</td>\n",
       "      <td>...</td>\n",
       "      <td>...</td>\n",
       "      <td>...</td>\n",
       "      <td>...</td>\n",
       "      <td>...</td>\n",
       "      <td>...</td>\n",
       "      <td>...</td>\n",
       "      <td>...</td>\n",
       "      <td>...</td>\n",
       "      <td>...</td>\n",
       "      <td>...</td>\n",
       "    </tr>\n",
       "    <tr>\n",
       "      <th>685</th>\n",
       "      <td>b</td>\n",
       "      <td>-0.885475</td>\n",
       "      <td>1.070704</td>\n",
       "      <td>y</td>\n",
       "      <td>p</td>\n",
       "      <td>e</td>\n",
       "      <td>h</td>\n",
       "      <td>-0.291083</td>\n",
       "      <td>f</td>\n",
       "      <td>f</td>\n",
       "      <td>...</td>\n",
       "      <td>1</td>\n",
       "      <td>2</td>\n",
       "      <td>2</td>\n",
       "      <td>4</td>\n",
       "      <td>3</td>\n",
       "      <td>0</td>\n",
       "      <td>0</td>\n",
       "      <td>0</td>\n",
       "      <td>0</td>\n",
       "      <td>1</td>\n",
       "    </tr>\n",
       "    <tr>\n",
       "      <th>686</th>\n",
       "      <td>a</td>\n",
       "      <td>-0.751238</td>\n",
       "      <td>-0.805846</td>\n",
       "      <td>u</td>\n",
       "      <td>g</td>\n",
       "      <td>c</td>\n",
       "      <td>v</td>\n",
       "      <td>-0.066806</td>\n",
       "      <td>f</td>\n",
       "      <td>t</td>\n",
       "      <td>...</td>\n",
       "      <td>0</td>\n",
       "      <td>1</td>\n",
       "      <td>0</td>\n",
       "      <td>1</td>\n",
       "      <td>7</td>\n",
       "      <td>0</td>\n",
       "      <td>1</td>\n",
       "      <td>1</td>\n",
       "      <td>0</td>\n",
       "      <td>1</td>\n",
       "    </tr>\n",
       "    <tr>\n",
       "      <th>687</th>\n",
       "      <td>a</td>\n",
       "      <td>-0.533418</td>\n",
       "      <td>1.757198</td>\n",
       "      <td>y</td>\n",
       "      <td>p</td>\n",
       "      <td>ff</td>\n",
       "      <td>ff</td>\n",
       "      <td>-0.066806</td>\n",
       "      <td>f</td>\n",
       "      <td>t</td>\n",
       "      <td>...</td>\n",
       "      <td>0</td>\n",
       "      <td>2</td>\n",
       "      <td>2</td>\n",
       "      <td>5</td>\n",
       "      <td>2</td>\n",
       "      <td>0</td>\n",
       "      <td>1</td>\n",
       "      <td>1</td>\n",
       "      <td>0</td>\n",
       "      <td>1</td>\n",
       "    </tr>\n",
       "    <tr>\n",
       "      <th>688</th>\n",
       "      <td>b</td>\n",
       "      <td>-1.152262</td>\n",
       "      <td>-0.915403</td>\n",
       "      <td>u</td>\n",
       "      <td>g</td>\n",
       "      <td>aa</td>\n",
       "      <td>v</td>\n",
       "      <td>-0.652915</td>\n",
       "      <td>f</td>\n",
       "      <td>f</td>\n",
       "      <td>...</td>\n",
       "      <td>1</td>\n",
       "      <td>1</td>\n",
       "      <td>0</td>\n",
       "      <td>0</td>\n",
       "      <td>7</td>\n",
       "      <td>0</td>\n",
       "      <td>0</td>\n",
       "      <td>0</td>\n",
       "      <td>0</td>\n",
       "      <td>1</td>\n",
       "    </tr>\n",
       "    <tr>\n",
       "      <th>689</th>\n",
       "      <td>b</td>\n",
       "      <td>0.289736</td>\n",
       "      <td>-0.278161</td>\n",
       "      <td>u</td>\n",
       "      <td>g</td>\n",
       "      <td>c</td>\n",
       "      <td>h</td>\n",
       "      <td>1.814125</td>\n",
       "      <td>f</td>\n",
       "      <td>f</td>\n",
       "      <td>...</td>\n",
       "      <td>1</td>\n",
       "      <td>1</td>\n",
       "      <td>0</td>\n",
       "      <td>1</td>\n",
       "      <td>3</td>\n",
       "      <td>0</td>\n",
       "      <td>0</td>\n",
       "      <td>1</td>\n",
       "      <td>0</td>\n",
       "      <td>1</td>\n",
       "    </tr>\n",
       "  </tbody>\n",
       "</table>\n",
       "<p>690 rows × 26 columns</p>\n",
       "</div>"
      ],
      "text/plain": [
       "    Gender       Age      Debt Married Bank Customer Education Ethnicity  \\\n",
       "0        b -0.062321 -0.956613       u             g         w         v   \n",
       "1        a  2.288101 -0.060051       u             g         q         h   \n",
       "2        a -0.596738 -0.856102       u             g         q         h   \n",
       "3        b -0.315599 -0.647038       u             g         w         v   \n",
       "4        b -0.962303  0.174141       u             g         w         v   \n",
       "..     ...       ...       ...     ...           ...       ...       ...   \n",
       "685      b -0.885475  1.070704       y             p         e         h   \n",
       "686      a -0.751238 -0.805846       u             g         c         v   \n",
       "687      a -0.533418  1.757198       y             p        ff        ff   \n",
       "688      b -1.152262 -0.915403       u             g        aa         v   \n",
       "689      b  0.289736 -0.278161       u             g         c         h   \n",
       "\n",
       "     Years Employed Prior Default Employed  ...  Gender_encoded  \\\n",
       "0         -0.291083             t        t  ...               1   \n",
       "1          0.244190             t        t  ...               0   \n",
       "2         -0.216324             t        f  ...               0   \n",
       "3          0.456505             t        t  ...               1   \n",
       "4         -0.153526             t        f  ...               1   \n",
       "..              ...           ...      ...  ...             ...   \n",
       "685       -0.291083             f        f  ...               1   \n",
       "686       -0.066806             f        t  ...               0   \n",
       "687       -0.066806             f        t  ...               0   \n",
       "688       -0.652915             f        f  ...               1   \n",
       "689        1.814125             f        f  ...               1   \n",
       "\n",
       "    Married_encoded Bank Customer_encoded  Education_encoded  \\\n",
       "0                 1                     0                 12   \n",
       "1                 1                     0                 10   \n",
       "2                 1                     0                 10   \n",
       "3                 1                     0                 12   \n",
       "4                 1                     0                 12   \n",
       "..              ...                   ...                ...   \n",
       "685               2                     2                  4   \n",
       "686               1                     0                  1   \n",
       "687               2                     2                  5   \n",
       "688               1                     0                  0   \n",
       "689               1                     0                  1   \n",
       "\n",
       "     Ethnicity_encoded Prior Default_encoded  Employed_encoded  \\\n",
       "0                    7                     1                 1   \n",
       "1                    3                     1                 1   \n",
       "2                    3                     1                 0   \n",
       "3                    7                     1                 1   \n",
       "4                    7                     1                 0   \n",
       "..                 ...                   ...               ...   \n",
       "685                  3                     0                 0   \n",
       "686                  7                     0                 1   \n",
       "687                  2                     0                 1   \n",
       "688                  7                     0                 0   \n",
       "689                  3                     0                 0   \n",
       "\n",
       "     Driving License_encoded  Citizenship_encoded  Approved_encoded  \n",
       "0                          0                    0                 0  \n",
       "1                          0                    0                 0  \n",
       "2                          0                    0                 0  \n",
       "3                          1                    0                 0  \n",
       "4                          0                    2                 0  \n",
       "..                       ...                  ...               ...  \n",
       "685                        0                    0                 1  \n",
       "686                        1                    0                 1  \n",
       "687                        1                    0                 1  \n",
       "688                        0                    0                 1  \n",
       "689                        1                    0                 1  \n",
       "\n",
       "[690 rows x 26 columns]"
      ]
     },
     "execution_count": 118,
     "metadata": {},
     "output_type": "execute_result"
    }
   ],
   "source": [
    "credit_card_dataset"
   ]
  },
  {
   "cell_type": "code",
   "execution_count": 77,
   "id": "889ac5c0-ab2f-43d7-bc1e-271d3f323d53",
   "metadata": {},
   "outputs": [],
   "source": [
    "features_conituos=['Age', 'Debt', 'Years Employed', 'Credit Score', 'Zip Code', 'Income']"
   ]
  },
  {
   "cell_type": "code",
   "execution_count": 78,
   "id": "86a3ccc7-2570-4abb-bf1b-e52cff5ef7de",
   "metadata": {},
   "outputs": [],
   "source": [
    "features_categorical=['Gender', 'Married', 'Bank Customer', 'Education', 'Ethnicity', 'Prior Default', 'Employed', 'Driving License', 'Citizenship']"
   ]
  },
  {
   "cell_type": "code",
   "execution_count": 54,
   "id": "b5bbea57-197e-48d2-9099-684c9fc7ea5b",
   "metadata": {},
   "outputs": [],
   "source": []
  },
  {
   "cell_type": "code",
   "execution_count": 147,
   "id": "a0c1cd2d-e1b4-46c4-a877-91f6ea2c327e",
   "metadata": {
    "tags": []
   },
   "outputs": [
    {
     "data": {
      "text/html": [
       "<b>Gender</b>"
      ],
      "text/plain": [
       "<IPython.core.display.HTML object>"
      ]
     },
     "metadata": {},
     "output_type": "display_data"
    },
    {
     "data": {
      "image/png": "[encoded data removed]",
      "text/plain": [
       "<Figure size 432x288 with 1 Axes>"
      ]
     },
     "metadata": {
      "needs_background": "light"
     },
     "output_type": "display_data"
    },
    {
     "data": {
      "text/html": [
       "<b>Married</b>"
      ],
      "text/plain": [
       "<IPython.core.display.HTML object>"
      ]
     },
     "metadata": {},
     "output_type": "display_data"
    },
    {
     "data": {
      "image/png": "[encoded data removed]",
      "text/plain": [
       "<Figure size 432x288 with 1 Axes>"
      ]
     },
     "metadata": {
      "needs_background": "light"
     },
     "output_type": "display_data"
    },
    {
     "data": {
      "text/html": [
       "<b>Bank Customer</b>"
      ],
      "text/plain": [
       "<IPython.core.display.HTML object>"
      ]
     },
     "metadata": {},
     "output_type": "display_data"
    },
    {
     "data": {
      "image/png": "[encoded data removed]",
      "text/plain": [
       "<Figure size 432x288 with 1 Axes>"
      ]
     },
     "metadata": {
      "needs_background": "light"
     },
     "output_type": "display_data"
    },
    {
     "data": {
      "text/html": [
       "<b>Education</b>"
      ],
      "text/plain": [
       "<IPython.core.display.HTML object>"
      ]
     },
     "metadata": {},
     "output_type": "display_data"
    },
    {
     "data": {
      "image/png": "[encoded data removed]",
      "text/plain": [
       "<Figure size 432x288 with 1 Axes>"
      ]
     },
     "metadata": {
      "needs_background": "light"
     },
     "output_type": "display_data"
    },
    {
     "data": {
      "text/html": [
       "<b>Ethnicity</b>"
      ],
      "text/plain": [
       "<IPython.core.display.HTML object>"
      ]
     },
     "metadata": {},
     "output_type": "display_data"
    },
    {
     "data": {
      "image/png": "[encoded data removed]",
      "text/plain": [
       "<Figure size 432x288 with 1 Axes>"
      ]
     },
     "metadata": {
      "needs_background": "light"
     },
     "output_type": "display_data"
    },
    {
     "data": {
      "text/html": [
       "<b>Prior Default</b>"
      ],
      "text/plain": [
       "<IPython.core.display.HTML object>"
      ]
     },
     "metadata": {},
     "output_type": "display_data"
    },
    {
     "data": {
      "image/png": "[encoded data removed]",
      "text/plain": [
       "<Figure size 432x288 with 1 Axes>"
      ]
     },
     "metadata": {
      "needs_background": "light"
     },
     "output_type": "display_data"
    },
    {
     "data": {
      "text/html": [
       "<b>Employed</b>"
      ],
      "text/plain": [
       "<IPython.core.display.HTML object>"
      ]
     },
     "metadata": {},
     "output_type": "display_data"
    },
    {
     "data": {
      "image/png": "[encoded data removed]",
      "text/plain": [
       "<Figure size 432x288 with 1 Axes>"
      ]
     },
     "metadata": {
      "needs_background": "light"
     },
     "output_type": "display_data"
    },
    {
     "data": {
      "text/html": [
       "<b>Driving License</b>"
      ],
      "text/plain": [
       "<IPython.core.display.HTML object>"
      ]
     },
     "metadata": {},
     "output_type": "display_data"
    },
    {
     "data": {
      "image/png": "[encoded data removed]",
      "text/plain": [
       "<Figure size 432x288 with 1 Axes>"
      ]
     },
     "metadata": {
      "needs_background": "light"
     },
     "output_type": "display_data"
    },
    {
     "data": {
      "text/html": [
       "<b>Citizenship</b>"
      ],
      "text/plain": [
       "<IPython.core.display.HTML object>"
      ]
     },
     "metadata": {},
     "output_type": "display_data"
    },
    {
     "data": {
      "image/png": "[encoded data removed]",
      "text/plain": [
       "<Figure size 432x288 with 1 Axes>"
      ]
     },
     "metadata": {
      "needs_background": "light"
     },
     "output_type": "display_data"
    }
   ],
   "source": [
    "plotValueCounts(df1,features_categorical)"
   ]
  },
  {
   "cell_type": "code",
   "execution_count": 79,
   "id": "e5a5d37c-76d8-46be-b66f-7dafb60b23ef",
   "metadata": {},
   "outputs": [],
   "source": [
    "def replace_missingvalues_categorical(df, colNames):\n",
    "    for col in colNames[:]:\n",
    "        temp = df[col].value_counts().to_dict()\n",
    "        if '?' in temp:\n",
    "            temp['?'] = max(temp)\n",
    "\n",
    "        for i in temp:\n",
    "            if i!='?':\n",
    "                temp[i] = i\n",
    "        df[col] = df[col].map(temp)"
   ]
  },
  {
   "cell_type": "code",
   "execution_count": 80,
   "id": "5d5b4723-3a24-49fb-9a82-184625b07ad4",
   "metadata": {},
   "outputs": [],
   "source": [
    "def replcae_missingvalues_continuos(df,colNames):\n",
    "    for col in colNames:\n",
    "        df[col] = pd.to_numeric(df[col], errors = 'coerce')\n",
    "        df[col] = df[col].fillna(df[col].mean())\n"
   ]
  },
  {
   "cell_type": "code",
   "execution_count": 81,
   "id": "5bb71449-a4f5-42cf-8e2d-36af53673b99",
   "metadata": {},
   "outputs": [],
   "source": [
    "replace_missingvalues_categorical(credit_card_dataset,features_categorical)"
   ]
  },
  {
   "cell_type": "code",
   "execution_count": 82,
   "id": "37fa23b4-54c4-4db2-8ef4-9dcae7d2d109",
   "metadata": {},
   "outputs": [],
   "source": [
    "replcae_missingvalues_continuos(credit_card_dataset,features_conituos)"
   ]
  },
  {
   "cell_type": "code",
   "execution_count": 59,
   "id": "88dc59b8-cebd-4377-a430-4dae05b12a6a",
   "metadata": {},
   "outputs": [],
   "source": [
    "### Ordinal Encoding--- Change\n",
    "def convertStringToNumeric(df, colNames):\n",
    "    for cols in colNames:\n",
    "        d = {}\n",
    "        for i in df[cols]:\n",
    "            print(i)\n",
    "            if i not in d:\n",
    "                d[i] = len(d)\n",
    "        df[cols] = df[cols].map(d)"
   ]
  },
  {
   "cell_type": "code",
   "execution_count": 83,
   "id": "388de693-2471-443a-92e1-8887d90906f5",
   "metadata": {},
   "outputs": [],
   "source": [
    "from sklearn.preprocessing import LabelEncoder\n",
    "labelencoder = LabelEncoder()\n"
   ]
  },
  {
   "cell_type": "code",
   "execution_count": 84,
   "id": "0451ee10-3708-4a4b-8354-6fde7ad8f3e7",
   "metadata": {},
   "outputs": [],
   "source": [
    "columnsToEncode=['Gender', 'Married', 'Bank Customer', 'Education', 'Ethnicity', 'Prior Default', 'Employed', 'Driving License', 'Citizenship', 'Approved']"
   ]
  },
  {
   "cell_type": "code",
   "execution_count": 85,
   "id": "029b6000-daf1-449a-ad2f-b33b271c6fb3",
   "metadata": {},
   "outputs": [],
   "source": [
    "for column in columnsToEncode:\n",
    "    credit_card_dataset[column+'_encoded'] = labelencoder.fit_transform(credit_card_dataset[column])\n"
   ]
  },
  {
   "cell_type": "code",
   "execution_count": 87,
   "id": "868cd37c-9849-45a7-be3d-d7690f9495e9",
   "metadata": {},
   "outputs": [],
   "source": [
    "credit_card_dataset_encoded=credit_card_dataset.drop(columns=columnsToEncode)"
   ]
  },
  {
   "cell_type": "code",
   "execution_count": 121,
   "id": "28bee40c-64f3-47ad-8c0f-c7befe98cd2c",
   "metadata": {},
   "outputs": [
    {
     "ename": "KeyError",
     "evalue": "'Gender'",
     "output_type": "error",
     "traceback": [
      "\u001b[0;31m---------------------------------------------------------------------------\u001b[0m",
      "\u001b[0;31mKeyError\u001b[0m                                  Traceback (most recent call last)",
      "\u001b[0;32m/opt/anaconda3/lib/python3.9/site-packages/pandas/core/indexes/base.py\u001b[0m in \u001b[0;36mget_loc\u001b[0;34m(self, key, method, tolerance)\u001b[0m\n\u001b[1;32m   3360\u001b[0m             \u001b[0;32mtry\u001b[0m\u001b[0;34m:\u001b[0m\u001b[0;34m\u001b[0m\u001b[0;34m\u001b[0m\u001b[0m\n\u001b[0;32m-> 3361\u001b[0;31m                 \u001b[0;32mreturn\u001b[0m \u001b[0mself\u001b[0m\u001b[0;34m.\u001b[0m\u001b[0m_engine\u001b[0m\u001b[0;34m.\u001b[0m\u001b[0mget_loc\u001b[0m\u001b[0;34m(\u001b[0m\u001b[0mcasted_key\u001b[0m\u001b[0;34m)\u001b[0m\u001b[0;34m\u001b[0m\u001b[0;34m\u001b[0m\u001b[0m\n\u001b[0m\u001b[1;32m   3362\u001b[0m             \u001b[0;32mexcept\u001b[0m \u001b[0mKeyError\u001b[0m \u001b[0;32mas\u001b[0m \u001b[0merr\u001b[0m\u001b[0;34m:\u001b[0m\u001b[0;34m\u001b[0m\u001b[0;34m\u001b[0m\u001b[0m\n",
      "\u001b[0;32m/opt/anaconda3/lib/python3.9/site-packages/pandas/_libs/index.pyx\u001b[0m in \u001b[0;36mpandas._libs.index.IndexEngine.get_loc\u001b[0;34m()\u001b[0m\n",
      "\u001b[0;32m/opt/anaconda3/lib/python3.9/site-packages/pandas/_libs/index.pyx\u001b[0m in \u001b[0;36mpandas._libs.index.IndexEngine.get_loc\u001b[0;34m()\u001b[0m\n",
      "\u001b[0;32mpandas/_libs/hashtable_class_helper.pxi\u001b[0m in \u001b[0;36mpandas._libs.hashtable.PyObjectHashTable.get_item\u001b[0;34m()\u001b[0m\n",
      "\u001b[0;32mpandas/_libs/hashtable_class_helper.pxi\u001b[0m in \u001b[0;36mpandas._libs.hashtable.PyObjectHashTable.get_item\u001b[0;34m()\u001b[0m\n",
      "\u001b[0;31mKeyError\u001b[0m: 'Gender'",
      "\nThe above exception was the direct cause of the following exception:\n",
      "\u001b[0;31mKeyError\u001b[0m                                  Traceback (most recent call last)",
      "\u001b[0;32m/var/folders/vn/h7gjf32s4pb7x8cgs4kfb2840000gn/T/ipykernel_1210/941743402.py\u001b[0m in \u001b[0;36m<module>\u001b[0;34m\u001b[0m\n\u001b[0;32m----> 1\u001b[0;31m \u001b[0mconvertStringToNumeric\u001b[0m\u001b[0;34m(\u001b[0m\u001b[0mcredit_card_dataset_encoded\u001b[0m\u001b[0;34m,\u001b[0m\u001b[0;34m[\u001b[0m\u001b[0;34m'Gender'\u001b[0m\u001b[0;34m,\u001b[0m \u001b[0;34m'Married'\u001b[0m\u001b[0;34m,\u001b[0m \u001b[0;34m'Bank Customer'\u001b[0m\u001b[0;34m,\u001b[0m \u001b[0;34m'Education'\u001b[0m\u001b[0;34m,\u001b[0m \u001b[0;34m'Ethnicity'\u001b[0m\u001b[0;34m,\u001b[0m \u001b[0;34m'Prior Default'\u001b[0m\u001b[0;34m,\u001b[0m \u001b[0;34m'Employed'\u001b[0m\u001b[0;34m,\u001b[0m \u001b[0;34m'Driving License'\u001b[0m\u001b[0;34m,\u001b[0m \u001b[0;34m'Citizenship'\u001b[0m\u001b[0;34m,\u001b[0m \u001b[0;34m'Approved'\u001b[0m\u001b[0;34m]\u001b[0m\u001b[0;34m)\u001b[0m\u001b[0;34m\u001b[0m\u001b[0;34m\u001b[0m\u001b[0m\n\u001b[0m",
      "\u001b[0;32m/var/folders/vn/h7gjf32s4pb7x8cgs4kfb2840000gn/T/ipykernel_1210/1251694921.py\u001b[0m in \u001b[0;36mconvertStringToNumeric\u001b[0;34m(df, colNames)\u001b[0m\n\u001b[1;32m      2\u001b[0m     \u001b[0;32mfor\u001b[0m \u001b[0mcols\u001b[0m \u001b[0;32min\u001b[0m \u001b[0mcolNames\u001b[0m\u001b[0;34m:\u001b[0m\u001b[0;34m\u001b[0m\u001b[0;34m\u001b[0m\u001b[0m\n\u001b[1;32m      3\u001b[0m         \u001b[0md\u001b[0m \u001b[0;34m=\u001b[0m \u001b[0;34m{\u001b[0m\u001b[0;34m}\u001b[0m\u001b[0;34m\u001b[0m\u001b[0;34m\u001b[0m\u001b[0m\n\u001b[0;32m----> 4\u001b[0;31m         \u001b[0;32mfor\u001b[0m \u001b[0mi\u001b[0m \u001b[0;32min\u001b[0m \u001b[0mdf\u001b[0m\u001b[0;34m[\u001b[0m\u001b[0mcols\u001b[0m\u001b[0;34m]\u001b[0m\u001b[0;34m:\u001b[0m\u001b[0;34m\u001b[0m\u001b[0;34m\u001b[0m\u001b[0m\n\u001b[0m\u001b[1;32m      5\u001b[0m             \u001b[0;31m# print(i)\u001b[0m\u001b[0;34m\u001b[0m\u001b[0;34m\u001b[0m\u001b[0m\n\u001b[1;32m      6\u001b[0m             \u001b[0;32mif\u001b[0m \u001b[0mi\u001b[0m \u001b[0;32mnot\u001b[0m \u001b[0;32min\u001b[0m \u001b[0md\u001b[0m\u001b[0;34m:\u001b[0m\u001b[0;34m\u001b[0m\u001b[0;34m\u001b[0m\u001b[0m\n",
      "\u001b[0;32m/opt/anaconda3/lib/python3.9/site-packages/pandas/core/frame.py\u001b[0m in \u001b[0;36m__getitem__\u001b[0;34m(self, key)\u001b[0m\n\u001b[1;32m   3456\u001b[0m             \u001b[0;32mif\u001b[0m \u001b[0mself\u001b[0m\u001b[0;34m.\u001b[0m\u001b[0mcolumns\u001b[0m\u001b[0;34m.\u001b[0m\u001b[0mnlevels\u001b[0m \u001b[0;34m>\u001b[0m \u001b[0;36m1\u001b[0m\u001b[0;34m:\u001b[0m\u001b[0;34m\u001b[0m\u001b[0;34m\u001b[0m\u001b[0m\n\u001b[1;32m   3457\u001b[0m                 \u001b[0;32mreturn\u001b[0m \u001b[0mself\u001b[0m\u001b[0;34m.\u001b[0m\u001b[0m_getitem_multilevel\u001b[0m\u001b[0;34m(\u001b[0m\u001b[0mkey\u001b[0m\u001b[0;34m)\u001b[0m\u001b[0;34m\u001b[0m\u001b[0;34m\u001b[0m\u001b[0m\n\u001b[0;32m-> 3458\u001b[0;31m             \u001b[0mindexer\u001b[0m \u001b[0;34m=\u001b[0m \u001b[0mself\u001b[0m\u001b[0;34m.\u001b[0m\u001b[0mcolumns\u001b[0m\u001b[0;34m.\u001b[0m\u001b[0mget_loc\u001b[0m\u001b[0;34m(\u001b[0m\u001b[0mkey\u001b[0m\u001b[0;34m)\u001b[0m\u001b[0;34m\u001b[0m\u001b[0;34m\u001b[0m\u001b[0m\n\u001b[0m\u001b[1;32m   3459\u001b[0m             \u001b[0;32mif\u001b[0m \u001b[0mis_integer\u001b[0m\u001b[0;34m(\u001b[0m\u001b[0mindexer\u001b[0m\u001b[0;34m)\u001b[0m\u001b[0;34m:\u001b[0m\u001b[0;34m\u001b[0m\u001b[0;34m\u001b[0m\u001b[0m\n\u001b[1;32m   3460\u001b[0m                 \u001b[0mindexer\u001b[0m \u001b[0;34m=\u001b[0m \u001b[0;34m[\u001b[0m\u001b[0mindexer\u001b[0m\u001b[0;34m]\u001b[0m\u001b[0;34m\u001b[0m\u001b[0;34m\u001b[0m\u001b[0m\n",
      "\u001b[0;32m/opt/anaconda3/lib/python3.9/site-packages/pandas/core/indexes/base.py\u001b[0m in \u001b[0;36mget_loc\u001b[0;34m(self, key, method, tolerance)\u001b[0m\n\u001b[1;32m   3361\u001b[0m                 \u001b[0;32mreturn\u001b[0m \u001b[0mself\u001b[0m\u001b[0;34m.\u001b[0m\u001b[0m_engine\u001b[0m\u001b[0;34m.\u001b[0m\u001b[0mget_loc\u001b[0m\u001b[0;34m(\u001b[0m\u001b[0mcasted_key\u001b[0m\u001b[0;34m)\u001b[0m\u001b[0;34m\u001b[0m\u001b[0;34m\u001b[0m\u001b[0m\n\u001b[1;32m   3362\u001b[0m             \u001b[0;32mexcept\u001b[0m \u001b[0mKeyError\u001b[0m \u001b[0;32mas\u001b[0m \u001b[0merr\u001b[0m\u001b[0;34m:\u001b[0m\u001b[0;34m\u001b[0m\u001b[0;34m\u001b[0m\u001b[0m\n\u001b[0;32m-> 3363\u001b[0;31m                 \u001b[0;32mraise\u001b[0m \u001b[0mKeyError\u001b[0m\u001b[0;34m(\u001b[0m\u001b[0mkey\u001b[0m\u001b[0;34m)\u001b[0m \u001b[0;32mfrom\u001b[0m \u001b[0merr\u001b[0m\u001b[0;34m\u001b[0m\u001b[0;34m\u001b[0m\u001b[0m\n\u001b[0m\u001b[1;32m   3364\u001b[0m \u001b[0;34m\u001b[0m\u001b[0m\n\u001b[1;32m   3365\u001b[0m         \u001b[0;32mif\u001b[0m \u001b[0mis_scalar\u001b[0m\u001b[0;34m(\u001b[0m\u001b[0mkey\u001b[0m\u001b[0;34m)\u001b[0m \u001b[0;32mand\u001b[0m \u001b[0misna\u001b[0m\u001b[0;34m(\u001b[0m\u001b[0mkey\u001b[0m\u001b[0;34m)\u001b[0m \u001b[0;32mand\u001b[0m \u001b[0;32mnot\u001b[0m \u001b[0mself\u001b[0m\u001b[0;34m.\u001b[0m\u001b[0mhasnans\u001b[0m\u001b[0;34m:\u001b[0m\u001b[0;34m\u001b[0m\u001b[0;34m\u001b[0m\u001b[0m\n",
      "\u001b[0;31mKeyError\u001b[0m: 'Gender'"
     ]
    }
   ],
   "source": [
    "convertStringToNumeric(credit_card_dataset_encoded,['Gender', 'Married', 'Bank Customer', 'Education', 'Ethnicity', 'Prior Default', 'Employed', 'Driving License', 'Citizenship', 'Approved'])"
   ]
  },
  {
   "cell_type": "code",
   "execution_count": 122,
   "id": "6c2cd1c7-931e-4a0f-8ab0-5b2adaac9e69",
   "metadata": {},
   "outputs": [
    {
     "data": {
      "text/html": [
       "<div>\n",
       "<style scoped>\n",
       "    .dataframe tbody tr th:only-of-type {\n",
       "        vertical-align: middle;\n",
       "    }\n",
       "\n",
       "    .dataframe tbody tr th {\n",
       "        vertical-align: top;\n",
       "    }\n",
       "\n",
       "    .dataframe thead th {\n",
       "        text-align: right;\n",
       "    }\n",
       "</style>\n",
       "<table border=\"1\" class=\"dataframe\">\n",
       "  <thead>\n",
       "    <tr style=\"text-align: right;\">\n",
       "      <th></th>\n",
       "      <th>Gender</th>\n",
       "      <th>Age</th>\n",
       "      <th>Debt</th>\n",
       "      <th>Married</th>\n",
       "      <th>Bank Customer</th>\n",
       "      <th>Education</th>\n",
       "      <th>Ethnicity</th>\n",
       "      <th>Years Employed</th>\n",
       "      <th>Prior Default</th>\n",
       "      <th>Employed</th>\n",
       "      <th>...</th>\n",
       "      <th>Gender_encoded</th>\n",
       "      <th>Married_encoded</th>\n",
       "      <th>Bank Customer_encoded</th>\n",
       "      <th>Education_encoded</th>\n",
       "      <th>Ethnicity_encoded</th>\n",
       "      <th>Prior Default_encoded</th>\n",
       "      <th>Employed_encoded</th>\n",
       "      <th>Driving License_encoded</th>\n",
       "      <th>Citizenship_encoded</th>\n",
       "      <th>Approved_encoded</th>\n",
       "    </tr>\n",
       "  </thead>\n",
       "  <tbody>\n",
       "    <tr>\n",
       "      <th>0</th>\n",
       "      <td>0</td>\n",
       "      <td>-0.062321</td>\n",
       "      <td>-0.956613</td>\n",
       "      <td>0</td>\n",
       "      <td>0</td>\n",
       "      <td>0</td>\n",
       "      <td>0</td>\n",
       "      <td>-0.291083</td>\n",
       "      <td>0</td>\n",
       "      <td>0</td>\n",
       "      <td>...</td>\n",
       "      <td>1</td>\n",
       "      <td>1</td>\n",
       "      <td>0</td>\n",
       "      <td>12</td>\n",
       "      <td>7</td>\n",
       "      <td>1</td>\n",
       "      <td>1</td>\n",
       "      <td>0</td>\n",
       "      <td>0</td>\n",
       "      <td>0</td>\n",
       "    </tr>\n",
       "    <tr>\n",
       "      <th>1</th>\n",
       "      <td>1</td>\n",
       "      <td>2.288101</td>\n",
       "      <td>-0.060051</td>\n",
       "      <td>0</td>\n",
       "      <td>0</td>\n",
       "      <td>1</td>\n",
       "      <td>1</td>\n",
       "      <td>0.244190</td>\n",
       "      <td>0</td>\n",
       "      <td>0</td>\n",
       "      <td>...</td>\n",
       "      <td>0</td>\n",
       "      <td>1</td>\n",
       "      <td>0</td>\n",
       "      <td>10</td>\n",
       "      <td>3</td>\n",
       "      <td>1</td>\n",
       "      <td>1</td>\n",
       "      <td>0</td>\n",
       "      <td>0</td>\n",
       "      <td>0</td>\n",
       "    </tr>\n",
       "    <tr>\n",
       "      <th>2</th>\n",
       "      <td>1</td>\n",
       "      <td>-0.596738</td>\n",
       "      <td>-0.856102</td>\n",
       "      <td>0</td>\n",
       "      <td>0</td>\n",
       "      <td>1</td>\n",
       "      <td>1</td>\n",
       "      <td>-0.216324</td>\n",
       "      <td>0</td>\n",
       "      <td>1</td>\n",
       "      <td>...</td>\n",
       "      <td>0</td>\n",
       "      <td>1</td>\n",
       "      <td>0</td>\n",
       "      <td>10</td>\n",
       "      <td>3</td>\n",
       "      <td>1</td>\n",
       "      <td>0</td>\n",
       "      <td>0</td>\n",
       "      <td>0</td>\n",
       "      <td>0</td>\n",
       "    </tr>\n",
       "    <tr>\n",
       "      <th>3</th>\n",
       "      <td>0</td>\n",
       "      <td>-0.315599</td>\n",
       "      <td>-0.647038</td>\n",
       "      <td>0</td>\n",
       "      <td>0</td>\n",
       "      <td>0</td>\n",
       "      <td>0</td>\n",
       "      <td>0.456505</td>\n",
       "      <td>0</td>\n",
       "      <td>0</td>\n",
       "      <td>...</td>\n",
       "      <td>1</td>\n",
       "      <td>1</td>\n",
       "      <td>0</td>\n",
       "      <td>12</td>\n",
       "      <td>7</td>\n",
       "      <td>1</td>\n",
       "      <td>1</td>\n",
       "      <td>1</td>\n",
       "      <td>0</td>\n",
       "      <td>0</td>\n",
       "    </tr>\n",
       "    <tr>\n",
       "      <th>4</th>\n",
       "      <td>0</td>\n",
       "      <td>-0.962303</td>\n",
       "      <td>0.174141</td>\n",
       "      <td>0</td>\n",
       "      <td>0</td>\n",
       "      <td>0</td>\n",
       "      <td>0</td>\n",
       "      <td>-0.153526</td>\n",
       "      <td>0</td>\n",
       "      <td>1</td>\n",
       "      <td>...</td>\n",
       "      <td>1</td>\n",
       "      <td>1</td>\n",
       "      <td>0</td>\n",
       "      <td>12</td>\n",
       "      <td>7</td>\n",
       "      <td>1</td>\n",
       "      <td>0</td>\n",
       "      <td>0</td>\n",
       "      <td>2</td>\n",
       "      <td>0</td>\n",
       "    </tr>\n",
       "    <tr>\n",
       "      <th>...</th>\n",
       "      <td>...</td>\n",
       "      <td>...</td>\n",
       "      <td>...</td>\n",
       "      <td>...</td>\n",
       "      <td>...</td>\n",
       "      <td>...</td>\n",
       "      <td>...</td>\n",
       "      <td>...</td>\n",
       "      <td>...</td>\n",
       "      <td>...</td>\n",
       "      <td>...</td>\n",
       "      <td>...</td>\n",
       "      <td>...</td>\n",
       "      <td>...</td>\n",
       "      <td>...</td>\n",
       "      <td>...</td>\n",
       "      <td>...</td>\n",
       "      <td>...</td>\n",
       "      <td>...</td>\n",
       "      <td>...</td>\n",
       "      <td>...</td>\n",
       "    </tr>\n",
       "    <tr>\n",
       "      <th>685</th>\n",
       "      <td>0</td>\n",
       "      <td>-0.885475</td>\n",
       "      <td>1.070704</td>\n",
       "      <td>1</td>\n",
       "      <td>1</td>\n",
       "      <td>10</td>\n",
       "      <td>1</td>\n",
       "      <td>-0.291083</td>\n",
       "      <td>1</td>\n",
       "      <td>1</td>\n",
       "      <td>...</td>\n",
       "      <td>1</td>\n",
       "      <td>2</td>\n",
       "      <td>2</td>\n",
       "      <td>4</td>\n",
       "      <td>3</td>\n",
       "      <td>0</td>\n",
       "      <td>0</td>\n",
       "      <td>0</td>\n",
       "      <td>0</td>\n",
       "      <td>1</td>\n",
       "    </tr>\n",
       "    <tr>\n",
       "      <th>686</th>\n",
       "      <td>1</td>\n",
       "      <td>-0.751238</td>\n",
       "      <td>-0.805846</td>\n",
       "      <td>0</td>\n",
       "      <td>0</td>\n",
       "      <td>6</td>\n",
       "      <td>0</td>\n",
       "      <td>-0.066806</td>\n",
       "      <td>1</td>\n",
       "      <td>0</td>\n",
       "      <td>...</td>\n",
       "      <td>0</td>\n",
       "      <td>1</td>\n",
       "      <td>0</td>\n",
       "      <td>1</td>\n",
       "      <td>7</td>\n",
       "      <td>0</td>\n",
       "      <td>1</td>\n",
       "      <td>1</td>\n",
       "      <td>0</td>\n",
       "      <td>1</td>\n",
       "    </tr>\n",
       "    <tr>\n",
       "      <th>687</th>\n",
       "      <td>1</td>\n",
       "      <td>-0.533418</td>\n",
       "      <td>1.757198</td>\n",
       "      <td>1</td>\n",
       "      <td>1</td>\n",
       "      <td>12</td>\n",
       "      <td>3</td>\n",
       "      <td>-0.066806</td>\n",
       "      <td>1</td>\n",
       "      <td>0</td>\n",
       "      <td>...</td>\n",
       "      <td>0</td>\n",
       "      <td>2</td>\n",
       "      <td>2</td>\n",
       "      <td>5</td>\n",
       "      <td>2</td>\n",
       "      <td>0</td>\n",
       "      <td>1</td>\n",
       "      <td>1</td>\n",
       "      <td>0</td>\n",
       "      <td>1</td>\n",
       "    </tr>\n",
       "    <tr>\n",
       "      <th>688</th>\n",
       "      <td>0</td>\n",
       "      <td>-1.152262</td>\n",
       "      <td>-0.915403</td>\n",
       "      <td>0</td>\n",
       "      <td>0</td>\n",
       "      <td>11</td>\n",
       "      <td>0</td>\n",
       "      <td>-0.652915</td>\n",
       "      <td>1</td>\n",
       "      <td>1</td>\n",
       "      <td>...</td>\n",
       "      <td>1</td>\n",
       "      <td>1</td>\n",
       "      <td>0</td>\n",
       "      <td>0</td>\n",
       "      <td>7</td>\n",
       "      <td>0</td>\n",
       "      <td>0</td>\n",
       "      <td>0</td>\n",
       "      <td>0</td>\n",
       "      <td>1</td>\n",
       "    </tr>\n",
       "    <tr>\n",
       "      <th>689</th>\n",
       "      <td>0</td>\n",
       "      <td>0.289736</td>\n",
       "      <td>-0.278161</td>\n",
       "      <td>0</td>\n",
       "      <td>0</td>\n",
       "      <td>6</td>\n",
       "      <td>1</td>\n",
       "      <td>1.814125</td>\n",
       "      <td>1</td>\n",
       "      <td>1</td>\n",
       "      <td>...</td>\n",
       "      <td>1</td>\n",
       "      <td>1</td>\n",
       "      <td>0</td>\n",
       "      <td>1</td>\n",
       "      <td>3</td>\n",
       "      <td>0</td>\n",
       "      <td>0</td>\n",
       "      <td>1</td>\n",
       "      <td>0</td>\n",
       "      <td>1</td>\n",
       "    </tr>\n",
       "  </tbody>\n",
       "</table>\n",
       "<p>690 rows × 26 columns</p>\n",
       "</div>"
      ],
      "text/plain": [
       "     Gender       Age      Debt  Married  Bank Customer  Education  Ethnicity  \\\n",
       "0         0 -0.062321 -0.956613        0              0          0          0   \n",
       "1         1  2.288101 -0.060051        0              0          1          1   \n",
       "2         1 -0.596738 -0.856102        0              0          1          1   \n",
       "3         0 -0.315599 -0.647038        0              0          0          0   \n",
       "4         0 -0.962303  0.174141        0              0          0          0   \n",
       "..      ...       ...       ...      ...            ...        ...        ...   \n",
       "685       0 -0.885475  1.070704        1              1         10          1   \n",
       "686       1 -0.751238 -0.805846        0              0          6          0   \n",
       "687       1 -0.533418  1.757198        1              1         12          3   \n",
       "688       0 -1.152262 -0.915403        0              0         11          0   \n",
       "689       0  0.289736 -0.278161        0              0          6          1   \n",
       "\n",
       "     Years Employed  Prior Default  Employed  ...  Gender_encoded  \\\n",
       "0         -0.291083              0         0  ...               1   \n",
       "1          0.244190              0         0  ...               0   \n",
       "2         -0.216324              0         1  ...               0   \n",
       "3          0.456505              0         0  ...               1   \n",
       "4         -0.153526              0         1  ...               1   \n",
       "..              ...            ...       ...  ...             ...   \n",
       "685       -0.291083              1         1  ...               1   \n",
       "686       -0.066806              1         0  ...               0   \n",
       "687       -0.066806              1         0  ...               0   \n",
       "688       -0.652915              1         1  ...               1   \n",
       "689        1.814125              1         1  ...               1   \n",
       "\n",
       "     Married_encoded  Bank Customer_encoded  Education_encoded  \\\n",
       "0                  1                      0                 12   \n",
       "1                  1                      0                 10   \n",
       "2                  1                      0                 10   \n",
       "3                  1                      0                 12   \n",
       "4                  1                      0                 12   \n",
       "..               ...                    ...                ...   \n",
       "685                2                      2                  4   \n",
       "686                1                      0                  1   \n",
       "687                2                      2                  5   \n",
       "688                1                      0                  0   \n",
       "689                1                      0                  1   \n",
       "\n",
       "     Ethnicity_encoded  Prior Default_encoded  Employed_encoded  \\\n",
       "0                    7                      1                 1   \n",
       "1                    3                      1                 1   \n",
       "2                    3                      1                 0   \n",
       "3                    7                      1                 1   \n",
       "4                    7                      1                 0   \n",
       "..                 ...                    ...               ...   \n",
       "685                  3                      0                 0   \n",
       "686                  7                      0                 1   \n",
       "687                  2                      0                 1   \n",
       "688                  7                      0                 0   \n",
       "689                  3                      0                 0   \n",
       "\n",
       "     Driving License_encoded  Citizenship_encoded  Approved_encoded  \n",
       "0                          0                    0                 0  \n",
       "1                          0                    0                 0  \n",
       "2                          0                    0                 0  \n",
       "3                          1                    0                 0  \n",
       "4                          0                    2                 0  \n",
       "..                       ...                  ...               ...  \n",
       "685                        0                    0                 1  \n",
       "686                        1                    0                 1  \n",
       "687                        1                    0                 1  \n",
       "688                        0                    0                 1  \n",
       "689                        1                    0                 1  \n",
       "\n",
       "[690 rows x 26 columns]"
      ]
     },
     "execution_count": 122,
     "metadata": {},
     "output_type": "execute_result"
    }
   ],
   "source": [
    "credit_card_dataset"
   ]
  },
  {
   "cell_type": "markdown",
   "id": "11c5dcd3-e01e-4549-8bd6-43bc062eeb97",
   "metadata": {},
   "source": [
    "### Feature Scaling"
   ]
  },
  {
   "cell_type": "markdown",
   "id": "ba818f25-e021-414e-830c-da6c182e8696",
   "metadata": {
    "tags": []
   },
   "source": [
    "### Box Plot"
   ]
  },
  {
   "cell_type": "code",
   "execution_count": 148,
   "id": "75a8c403-f065-43ce-ad1c-cd50c5c0cfa2",
   "metadata": {},
   "outputs": [
    {
     "data": {
      "text/html": [
       "<b>Age</b>"
      ],
      "text/plain": [
       "<IPython.core.display.HTML object>"
      ]
     },
     "metadata": {},
     "output_type": "display_data"
    },
    {
     "data": {
      "image/png": "[encoded data removed]",
      "text/plain": [
       "<Figure size 432x288 with 1 Axes>"
      ]
     },
     "metadata": {
      "needs_background": "light"
     },
     "output_type": "display_data"
    },
    {
     "data": {
      "text/plain": [
       "count    6.900000e+02\n",
       "mean     4.730515e-17\n",
       "std      1.000725e+00\n",
       "min     -1.504318e+00\n",
       "25%     -7.512378e-01\n",
       "50%     -2.484804e-01\n",
       "75%      5.183195e-01\n",
       "max      4.110016e+00\n",
       "Name: Age, dtype: float64"
      ]
     },
     "execution_count": 148,
     "metadata": {},
     "output_type": "execute_result"
    }
   ],
   "source": [
    "\n",
    "plotBoxPlots(credit_card_dataset,['Age'])\n",
    "credit_card_dataset['Age'].describe()"
   ]
  },
  {
   "cell_type": "code",
   "execution_count": 18,
   "id": "40d75e48-f0b3-493d-8eaf-a658529d5c3c",
   "metadata": {},
   "outputs": [],
   "source": [
    "def plotBoxPlots(df,columnList):\n",
    "    for col in columnList:\n",
    "        display(HTML(\"<b>\"+col+\"</b>\"))\n",
    "        df.boxplot(column=[col])\n",
    "        plt.show()"
   ]
  },
  {
   "cell_type": "code",
   "execution_count": 88,
   "id": "62dbb75c-31b1-4d1b-a5a7-93183809d847",
   "metadata": {},
   "outputs": [],
   "source": [
    "features_to_scale = ['Age', 'Debt', 'Years Employed', 'Credit Score', 'Zip Code', 'Income']\n",
    "\n",
    "scaler = StandardScaler()\n",
    "credit_card_dataset[features_to_scale] = scaler.fit_transform(credit_card_dataset[features_to_scale])\n",
    "credit_card_dataset_encoded[features_to_scale] = scaler.fit_transform(credit_card_dataset_encoded[features_to_scale])"
   ]
  },
  {
   "cell_type": "code",
   "execution_count": 142,
   "id": "d6a61dcc-ab5b-4d00-bc4c-91064b82de45",
   "metadata": {},
   "outputs": [
    {
     "name": "stderr",
     "output_type": "stream",
     "text": [
      "/opt/anaconda3/lib/python3.9/site-packages/seaborn/distributions.py:2619: FutureWarning: `distplot` is a deprecated function and will be removed in a future version. Please adapt your code to use either `displot` (a figure-level function with similar flexibility) or `histplot` (an axes-level function for histograms).\n",
      "  warnings.warn(msg, FutureWarning)\n"
     ]
    },
    {
     "data": {
      "text/plain": [
       "<AxesSubplot:xlabel='Years Employed', ylabel='Density'>"
      ]
     },
     "execution_count": 142,
     "metadata": {},
     "output_type": "execute_result"
    },
    {
     "data": {
      "image/png": "[encoded data removed]",
      "text/plain": [
       "<Figure size 864x576 with 1 Axes>"
      ]
     },
     "metadata": {
      "needs_background": "light"
     },
     "output_type": "display_data"
    }
   ],
   "source": [
    "dim = (12, 8)\n",
    "fig, ax = plt.subplots(figsize = dim)\n",
    "p = features_to_scale[2]\n",
    "sns.distplot(credit_card_dataset[p])"
   ]
  },
  {
   "cell_type": "markdown",
   "id": "82895f68-407e-4556-ad2b-1ad806b1c66c",
   "metadata": {},
   "source": [
    "### Deciding Features"
   ]
  },
  {
   "cell_type": "code",
   "execution_count": 89,
   "id": "61f64e1a-0671-4c66-bce4-71d11bb57a7c",
   "metadata": {},
   "outputs": [],
   "source": [
    "cMatrix=credit_card_dataset_encoded.corr()"
   ]
  },
  {
   "cell_type": "code",
   "execution_count": 90,
   "id": "4068f743-6471-4646-9466-be804d4bf8e3",
   "metadata": {},
   "outputs": [
    {
     "data": {
      "text/html": [
       "<div>\n",
       "<style scoped>\n",
       "    .dataframe tbody tr th:only-of-type {\n",
       "        vertical-align: middle;\n",
       "    }\n",
       "\n",
       "    .dataframe tbody tr th {\n",
       "        vertical-align: top;\n",
       "    }\n",
       "\n",
       "    .dataframe thead th {\n",
       "        text-align: right;\n",
       "    }\n",
       "</style>\n",
       "<table border=\"1\" class=\"dataframe\">\n",
       "  <thead>\n",
       "    <tr style=\"text-align: right;\">\n",
       "      <th></th>\n",
       "      <th>Age</th>\n",
       "      <th>Debt</th>\n",
       "      <th>Years Employed</th>\n",
       "      <th>Credit Score</th>\n",
       "      <th>Zip Code</th>\n",
       "      <th>Income</th>\n",
       "      <th>Gender_encoded</th>\n",
       "      <th>Married_encoded</th>\n",
       "      <th>Bank Customer_encoded</th>\n",
       "      <th>Education_encoded</th>\n",
       "      <th>Ethnicity_encoded</th>\n",
       "      <th>Prior Default_encoded</th>\n",
       "      <th>Employed_encoded</th>\n",
       "      <th>Driving License_encoded</th>\n",
       "      <th>Citizenship_encoded</th>\n",
       "      <th>Approved_encoded</th>\n",
       "    </tr>\n",
       "  </thead>\n",
       "  <tbody>\n",
       "    <tr>\n",
       "      <th>Age</th>\n",
       "      <td>1.000000</td>\n",
       "      <td>0.201316</td>\n",
       "      <td>0.392787</td>\n",
       "      <td>0.185575</td>\n",
       "      <td>-0.077161</td>\n",
       "      <td>0.018539</td>\n",
       "      <td>0.035604</td>\n",
       "      <td>-0.081809</td>\n",
       "      <td>-0.094514</td>\n",
       "      <td>0.038152</td>\n",
       "      <td>-0.165827</td>\n",
       "      <td>0.204342</td>\n",
       "      <td>0.083681</td>\n",
       "      <td>0.054778</td>\n",
       "      <td>-0.014584</td>\n",
       "      <td>-0.161627</td>\n",
       "    </tr>\n",
       "    <tr>\n",
       "      <th>Debt</th>\n",
       "      <td>0.201316</td>\n",
       "      <td>1.000000</td>\n",
       "      <td>0.298902</td>\n",
       "      <td>0.271207</td>\n",
       "      <td>-0.222346</td>\n",
       "      <td>0.123121</td>\n",
       "      <td>-0.041746</td>\n",
       "      <td>-0.109538</td>\n",
       "      <td>-0.097738</td>\n",
       "      <td>-0.003423</td>\n",
       "      <td>-0.051098</td>\n",
       "      <td>0.244317</td>\n",
       "      <td>0.174846</td>\n",
       "      <td>-0.013023</td>\n",
       "      <td>-0.122233</td>\n",
       "      <td>-0.206294</td>\n",
       "    </tr>\n",
       "    <tr>\n",
       "      <th>Years Employed</th>\n",
       "      <td>0.392787</td>\n",
       "      <td>0.298902</td>\n",
       "      <td>1.000000</td>\n",
       "      <td>0.322330</td>\n",
       "      <td>-0.076389</td>\n",
       "      <td>0.051345</td>\n",
       "      <td>0.086544</td>\n",
       "      <td>-0.092937</td>\n",
       "      <td>-0.085616</td>\n",
       "      <td>0.013322</td>\n",
       "      <td>-0.106371</td>\n",
       "      <td>0.345689</td>\n",
       "      <td>0.222982</td>\n",
       "      <td>0.138139</td>\n",
       "      <td>-0.020528</td>\n",
       "      <td>-0.322475</td>\n",
       "    </tr>\n",
       "    <tr>\n",
       "      <th>Credit Score</th>\n",
       "      <td>0.185575</td>\n",
       "      <td>0.271207</td>\n",
       "      <td>0.322330</td>\n",
       "      <td>1.000000</td>\n",
       "      <td>-0.119809</td>\n",
       "      <td>0.063692</td>\n",
       "      <td>-0.024630</td>\n",
       "      <td>-0.115038</td>\n",
       "      <td>-0.121360</td>\n",
       "      <td>-0.010959</td>\n",
       "      <td>-0.038893</td>\n",
       "      <td>0.379532</td>\n",
       "      <td>0.571498</td>\n",
       "      <td>0.006944</td>\n",
       "      <td>-0.139527</td>\n",
       "      <td>-0.406410</td>\n",
       "    </tr>\n",
       "    <tr>\n",
       "      <th>Zip Code</th>\n",
       "      <td>-0.077161</td>\n",
       "      <td>-0.222346</td>\n",
       "      <td>-0.076389</td>\n",
       "      <td>-0.119809</td>\n",
       "      <td>1.000000</td>\n",
       "      <td>0.065609</td>\n",
       "      <td>0.083396</td>\n",
       "      <td>0.001736</td>\n",
       "      <td>0.012980</td>\n",
       "      <td>0.068324</td>\n",
       "      <td>-0.018066</td>\n",
       "      <td>-0.067388</td>\n",
       "      <td>-0.053321</td>\n",
       "      <td>0.144253</td>\n",
       "      <td>0.094091</td>\n",
       "      <td>0.099972</td>\n",
       "    </tr>\n",
       "    <tr>\n",
       "      <th>Income</th>\n",
       "      <td>0.018539</td>\n",
       "      <td>0.123121</td>\n",
       "      <td>0.051345</td>\n",
       "      <td>0.063692</td>\n",
       "      <td>0.065609</td>\n",
       "      <td>1.000000</td>\n",
       "      <td>-0.002063</td>\n",
       "      <td>-0.122515</td>\n",
       "      <td>-0.028814</td>\n",
       "      <td>-0.002046</td>\n",
       "      <td>-0.018149</td>\n",
       "      <td>0.090012</td>\n",
       "      <td>0.077652</td>\n",
       "      <td>0.019201</td>\n",
       "      <td>-0.012017</td>\n",
       "      <td>-0.175657</td>\n",
       "    </tr>\n",
       "    <tr>\n",
       "      <th>Gender_encoded</th>\n",
       "      <td>0.035604</td>\n",
       "      <td>-0.041746</td>\n",
       "      <td>0.086544</td>\n",
       "      <td>-0.024630</td>\n",
       "      <td>0.083396</td>\n",
       "      <td>-0.002063</td>\n",
       "      <td>1.000000</td>\n",
       "      <td>0.071143</td>\n",
       "      <td>0.067666</td>\n",
       "      <td>-0.010507</td>\n",
       "      <td>0.054260</td>\n",
       "      <td>-0.026047</td>\n",
       "      <td>-0.077784</td>\n",
       "      <td>0.051674</td>\n",
       "      <td>0.085488</td>\n",
       "      <td>0.028934</td>\n",
       "    </tr>\n",
       "    <tr>\n",
       "      <th>Married_encoded</th>\n",
       "      <td>-0.081809</td>\n",
       "      <td>-0.109538</td>\n",
       "      <td>-0.092937</td>\n",
       "      <td>-0.115038</td>\n",
       "      <td>0.001736</td>\n",
       "      <td>-0.122515</td>\n",
       "      <td>0.071143</td>\n",
       "      <td>1.000000</td>\n",
       "      <td>0.982687</td>\n",
       "      <td>-0.016782</td>\n",
       "      <td>-0.002162</td>\n",
       "      <td>-0.149227</td>\n",
       "      <td>-0.177769</td>\n",
       "      <td>-0.023277</td>\n",
       "      <td>-0.015105</td>\n",
       "      <td>0.183031</td>\n",
       "    </tr>\n",
       "    <tr>\n",
       "      <th>Bank Customer_encoded</th>\n",
       "      <td>-0.094514</td>\n",
       "      <td>-0.097738</td>\n",
       "      <td>-0.085616</td>\n",
       "      <td>-0.121360</td>\n",
       "      <td>0.012980</td>\n",
       "      <td>-0.028814</td>\n",
       "      <td>0.067666</td>\n",
       "      <td>0.982687</td>\n",
       "      <td>1.000000</td>\n",
       "      <td>-0.022478</td>\n",
       "      <td>-0.006644</td>\n",
       "      <td>-0.161541</td>\n",
       "      <td>-0.188559</td>\n",
       "      <td>-0.012547</td>\n",
       "      <td>0.008717</td>\n",
       "      <td>0.173853</td>\n",
       "    </tr>\n",
       "    <tr>\n",
       "      <th>Education_encoded</th>\n",
       "      <td>0.038152</td>\n",
       "      <td>-0.003423</td>\n",
       "      <td>0.013322</td>\n",
       "      <td>-0.010959</td>\n",
       "      <td>0.068324</td>\n",
       "      <td>-0.002046</td>\n",
       "      <td>-0.010507</td>\n",
       "      <td>-0.016782</td>\n",
       "      <td>-0.022478</td>\n",
       "      <td>1.000000</td>\n",
       "      <td>0.035223</td>\n",
       "      <td>0.078672</td>\n",
       "      <td>0.095968</td>\n",
       "      <td>0.048265</td>\n",
       "      <td>0.035857</td>\n",
       "      <td>-0.129058</td>\n",
       "    </tr>\n",
       "    <tr>\n",
       "      <th>Ethnicity_encoded</th>\n",
       "      <td>-0.165827</td>\n",
       "      <td>-0.051098</td>\n",
       "      <td>-0.106371</td>\n",
       "      <td>-0.038893</td>\n",
       "      <td>-0.018066</td>\n",
       "      <td>-0.018149</td>\n",
       "      <td>0.054260</td>\n",
       "      <td>-0.002162</td>\n",
       "      <td>-0.006644</td>\n",
       "      <td>0.035223</td>\n",
       "      <td>1.000000</td>\n",
       "      <td>-0.040608</td>\n",
       "      <td>-0.006879</td>\n",
       "      <td>-0.011841</td>\n",
       "      <td>0.042673</td>\n",
       "      <td>-0.000857</td>\n",
       "    </tr>\n",
       "    <tr>\n",
       "      <th>Prior Default_encoded</th>\n",
       "      <td>0.204342</td>\n",
       "      <td>0.244317</td>\n",
       "      <td>0.345689</td>\n",
       "      <td>0.379532</td>\n",
       "      <td>-0.067388</td>\n",
       "      <td>0.090012</td>\n",
       "      <td>-0.026047</td>\n",
       "      <td>-0.149227</td>\n",
       "      <td>-0.161541</td>\n",
       "      <td>0.078672</td>\n",
       "      <td>-0.040608</td>\n",
       "      <td>1.000000</td>\n",
       "      <td>0.432032</td>\n",
       "      <td>0.091276</td>\n",
       "      <td>-0.113623</td>\n",
       "      <td>-0.720407</td>\n",
       "    </tr>\n",
       "    <tr>\n",
       "      <th>Employed_encoded</th>\n",
       "      <td>0.083681</td>\n",
       "      <td>0.174846</td>\n",
       "      <td>0.222982</td>\n",
       "      <td>0.571498</td>\n",
       "      <td>-0.053321</td>\n",
       "      <td>0.077652</td>\n",
       "      <td>-0.077784</td>\n",
       "      <td>-0.177769</td>\n",
       "      <td>-0.188559</td>\n",
       "      <td>0.095968</td>\n",
       "      <td>-0.006879</td>\n",
       "      <td>0.432032</td>\n",
       "      <td>1.000000</td>\n",
       "      <td>0.017043</td>\n",
       "      <td>-0.242568</td>\n",
       "      <td>-0.458301</td>\n",
       "    </tr>\n",
       "    <tr>\n",
       "      <th>Driving License_encoded</th>\n",
       "      <td>0.054778</td>\n",
       "      <td>-0.013023</td>\n",
       "      <td>0.138139</td>\n",
       "      <td>0.006944</td>\n",
       "      <td>0.144253</td>\n",
       "      <td>0.019201</td>\n",
       "      <td>0.051674</td>\n",
       "      <td>-0.023277</td>\n",
       "      <td>-0.012547</td>\n",
       "      <td>0.048265</td>\n",
       "      <td>-0.011841</td>\n",
       "      <td>0.091276</td>\n",
       "      <td>0.017043</td>\n",
       "      <td>1.000000</td>\n",
       "      <td>0.005883</td>\n",
       "      <td>-0.031625</td>\n",
       "    </tr>\n",
       "    <tr>\n",
       "      <th>Citizenship_encoded</th>\n",
       "      <td>-0.014584</td>\n",
       "      <td>-0.122233</td>\n",
       "      <td>-0.020528</td>\n",
       "      <td>-0.139527</td>\n",
       "      <td>0.094091</td>\n",
       "      <td>-0.012017</td>\n",
       "      <td>0.085488</td>\n",
       "      <td>-0.015105</td>\n",
       "      <td>0.008717</td>\n",
       "      <td>0.035857</td>\n",
       "      <td>0.042673</td>\n",
       "      <td>-0.113623</td>\n",
       "      <td>-0.242568</td>\n",
       "      <td>0.005883</td>\n",
       "      <td>1.000000</td>\n",
       "      <td>0.100867</td>\n",
       "    </tr>\n",
       "    <tr>\n",
       "      <th>Approved_encoded</th>\n",
       "      <td>-0.161627</td>\n",
       "      <td>-0.206294</td>\n",
       "      <td>-0.322475</td>\n",
       "      <td>-0.406410</td>\n",
       "      <td>0.099972</td>\n",
       "      <td>-0.175657</td>\n",
       "      <td>0.028934</td>\n",
       "      <td>0.183031</td>\n",
       "      <td>0.173853</td>\n",
       "      <td>-0.129058</td>\n",
       "      <td>-0.000857</td>\n",
       "      <td>-0.720407</td>\n",
       "      <td>-0.458301</td>\n",
       "      <td>-0.031625</td>\n",
       "      <td>0.100867</td>\n",
       "      <td>1.000000</td>\n",
       "    </tr>\n",
       "  </tbody>\n",
       "</table>\n",
       "</div>"
      ],
      "text/plain": [
       "                              Age      Debt  Years Employed  Credit Score  \\\n",
       "Age                      1.000000  0.201316        0.392787      0.185575   \n",
       "Debt                     0.201316  1.000000        0.298902      0.271207   \n",
       "Years Employed           0.392787  0.298902        1.000000      0.322330   \n",
       "Credit Score             0.185575  0.271207        0.322330      1.000000   \n",
       "Zip Code                -0.077161 -0.222346       -0.076389     -0.119809   \n",
       "Income                   0.018539  0.123121        0.051345      0.063692   \n",
       "Gender_encoded           0.035604 -0.041746        0.086544     -0.024630   \n",
       "Married_encoded         -0.081809 -0.109538       -0.092937     -0.115038   \n",
       "Bank Customer_encoded   -0.094514 -0.097738       -0.085616     -0.121360   \n",
       "Education_encoded        0.038152 -0.003423        0.013322     -0.010959   \n",
       "Ethnicity_encoded       -0.165827 -0.051098       -0.106371     -0.038893   \n",
       "Prior Default_encoded    0.204342  0.244317        0.345689      0.379532   \n",
       "Employed_encoded         0.083681  0.174846        0.222982      0.571498   \n",
       "Driving License_encoded  0.054778 -0.013023        0.138139      0.006944   \n",
       "Citizenship_encoded     -0.014584 -0.122233       -0.020528     -0.139527   \n",
       "Approved_encoded        -0.161627 -0.206294       -0.322475     -0.406410   \n",
       "\n",
       "                         Zip Code    Income  Gender_encoded  Married_encoded  \\\n",
       "Age                     -0.077161  0.018539        0.035604        -0.081809   \n",
       "Debt                    -0.222346  0.123121       -0.041746        -0.109538   \n",
       "Years Employed          -0.076389  0.051345        0.086544        -0.092937   \n",
       "Credit Score            -0.119809  0.063692       -0.024630        -0.115038   \n",
       "Zip Code                 1.000000  0.065609        0.083396         0.001736   \n",
       "Income                   0.065609  1.000000       -0.002063        -0.122515   \n",
       "Gender_encoded           0.083396 -0.002063        1.000000         0.071143   \n",
       "Married_encoded          0.001736 -0.122515        0.071143         1.000000   \n",
       "Bank Customer_encoded    0.012980 -0.028814        0.067666         0.982687   \n",
       "Education_encoded        0.068324 -0.002046       -0.010507        -0.016782   \n",
       "Ethnicity_encoded       -0.018066 -0.018149        0.054260        -0.002162   \n",
       "Prior Default_encoded   -0.067388  0.090012       -0.026047        -0.149227   \n",
       "Employed_encoded        -0.053321  0.077652       -0.077784        -0.177769   \n",
       "Driving License_encoded  0.144253  0.019201        0.051674        -0.023277   \n",
       "Citizenship_encoded      0.094091 -0.012017        0.085488        -0.015105   \n",
       "Approved_encoded         0.099972 -0.175657        0.028934         0.183031   \n",
       "\n",
       "                         Bank Customer_encoded  Education_encoded  \\\n",
       "Age                                  -0.094514           0.038152   \n",
       "Debt                                 -0.097738          -0.003423   \n",
       "Years Employed                       -0.085616           0.013322   \n",
       "Credit Score                         -0.121360          -0.010959   \n",
       "Zip Code                              0.012980           0.068324   \n",
       "Income                               -0.028814          -0.002046   \n",
       "Gender_encoded                        0.067666          -0.010507   \n",
       "Married_encoded                       0.982687          -0.016782   \n",
       "Bank Customer_encoded                 1.000000          -0.022478   \n",
       "Education_encoded                    -0.022478           1.000000   \n",
       "Ethnicity_encoded                    -0.006644           0.035223   \n",
       "Prior Default_encoded                -0.161541           0.078672   \n",
       "Employed_encoded                     -0.188559           0.095968   \n",
       "Driving License_encoded              -0.012547           0.048265   \n",
       "Citizenship_encoded                   0.008717           0.035857   \n",
       "Approved_encoded                      0.173853          -0.129058   \n",
       "\n",
       "                         Ethnicity_encoded  Prior Default_encoded  \\\n",
       "Age                              -0.165827               0.204342   \n",
       "Debt                             -0.051098               0.244317   \n",
       "Years Employed                   -0.106371               0.345689   \n",
       "Credit Score                     -0.038893               0.379532   \n",
       "Zip Code                         -0.018066              -0.067388   \n",
       "Income                           -0.018149               0.090012   \n",
       "Gender_encoded                    0.054260              -0.026047   \n",
       "Married_encoded                  -0.002162              -0.149227   \n",
       "Bank Customer_encoded            -0.006644              -0.161541   \n",
       "Education_encoded                 0.035223               0.078672   \n",
       "Ethnicity_encoded                 1.000000              -0.040608   \n",
       "Prior Default_encoded            -0.040608               1.000000   \n",
       "Employed_encoded                 -0.006879               0.432032   \n",
       "Driving License_encoded          -0.011841               0.091276   \n",
       "Citizenship_encoded               0.042673              -0.113623   \n",
       "Approved_encoded                 -0.000857              -0.720407   \n",
       "\n",
       "                         Employed_encoded  Driving License_encoded  \\\n",
       "Age                              0.083681                 0.054778   \n",
       "Debt                             0.174846                -0.013023   \n",
       "Years Employed                   0.222982                 0.138139   \n",
       "Credit Score                     0.571498                 0.006944   \n",
       "Zip Code                        -0.053321                 0.144253   \n",
       "Income                           0.077652                 0.019201   \n",
       "Gender_encoded                  -0.077784                 0.051674   \n",
       "Married_encoded                 -0.177769                -0.023277   \n",
       "Bank Customer_encoded           -0.188559                -0.012547   \n",
       "Education_encoded                0.095968                 0.048265   \n",
       "Ethnicity_encoded               -0.006879                -0.011841   \n",
       "Prior Default_encoded            0.432032                 0.091276   \n",
       "Employed_encoded                 1.000000                 0.017043   \n",
       "Driving License_encoded          0.017043                 1.000000   \n",
       "Citizenship_encoded             -0.242568                 0.005883   \n",
       "Approved_encoded                -0.458301                -0.031625   \n",
       "\n",
       "                         Citizenship_encoded  Approved_encoded  \n",
       "Age                                -0.014584         -0.161627  \n",
       "Debt                               -0.122233         -0.206294  \n",
       "Years Employed                     -0.020528         -0.322475  \n",
       "Credit Score                       -0.139527         -0.406410  \n",
       "Zip Code                            0.094091          0.099972  \n",
       "Income                             -0.012017         -0.175657  \n",
       "Gender_encoded                      0.085488          0.028934  \n",
       "Married_encoded                    -0.015105          0.183031  \n",
       "Bank Customer_encoded               0.008717          0.173853  \n",
       "Education_encoded                   0.035857         -0.129058  \n",
       "Ethnicity_encoded                   0.042673         -0.000857  \n",
       "Prior Default_encoded              -0.113623         -0.720407  \n",
       "Employed_encoded                   -0.242568         -0.458301  \n",
       "Driving License_encoded             0.005883         -0.031625  \n",
       "Citizenship_encoded                 1.000000          0.100867  \n",
       "Approved_encoded                    0.100867          1.000000  "
      ]
     },
     "execution_count": 90,
     "metadata": {},
     "output_type": "execute_result"
    }
   ],
   "source": [
    "cMatrix"
   ]
  },
  {
   "cell_type": "code",
   "execution_count": 23,
   "id": "6473ddbf-99d5-4060-bf86-142fc5df58c2",
   "metadata": {},
   "outputs": [],
   "source": [
    "final_features = ['Age', 'Debt', 'Ethnicity', 'Years Employed', 'Prior Default', 'Employed', 'Credit Score', 'Driving License', 'Income']\n"
   ]
  },
  {
   "cell_type": "code",
   "execution_count": 91,
   "id": "651e09bb-f73e-4d56-913b-01c9dc71f6ee",
   "metadata": {},
   "outputs": [],
   "source": [
    "final_features_encoded=['Age', 'Debt', 'Ethnicity_encoded', 'Years Employed', 'Prior Default_encoded', 'Employed_encoded', 'Credit Score', 'Driving License_encoded', 'Income']"
   ]
  },
  {
   "cell_type": "markdown",
   "id": "25f68f09-f7b3-4a5f-a727-8a78fcc433d9",
   "metadata": {},
   "source": [
    "### Splitiing Data"
   ]
  },
  {
   "cell_type": "code",
   "execution_count": 20,
   "id": "8e66fdd2-86af-4a33-b52f-010dc5d6ae57",
   "metadata": {},
   "outputs": [],
   "source": [
    "from sklearn.model_selection import train_test_split\n",
    "from sklearn.preprocessing import StandardScaler"
   ]
  },
  {
   "cell_type": "code",
   "execution_count": 129,
   "id": "f524e44e-5d55-4cc9-bc76-2863723a20a3",
   "metadata": {},
   "outputs": [],
   "source": [
    "x = final_features\n",
    "y = ['Approved_encoded']\n",
    "# x = credit_card_dataset.columns[:len(credit_card_dataset.columns)-1]"
   ]
  },
  {
   "cell_type": "code",
   "execution_count": 130,
   "id": "4bd079cc-7874-4a59-80e5-8da3a62470a4",
   "metadata": {},
   "outputs": [],
   "source": [
    "xTrain, xTest, yTrain, yTest = train_test_split(credit_card_dataset[x], credit_card_dataset[y],test_size=0.30,random_state=2)"
   ]
  },
  {
   "cell_type": "code",
   "execution_count": 131,
   "id": "305f1129-8499-46b8-8529-f8a2424cc47f",
   "metadata": {},
   "outputs": [
    {
     "data": {
      "text/html": [
       "<div>\n",
       "<style scoped>\n",
       "    .dataframe tbody tr th:only-of-type {\n",
       "        vertical-align: middle;\n",
       "    }\n",
       "\n",
       "    .dataframe tbody tr th {\n",
       "        vertical-align: top;\n",
       "    }\n",
       "\n",
       "    .dataframe thead th {\n",
       "        text-align: right;\n",
       "    }\n",
       "</style>\n",
       "<table border=\"1\" class=\"dataframe\">\n",
       "  <thead>\n",
       "    <tr style=\"text-align: right;\">\n",
       "      <th></th>\n",
       "      <th>Age</th>\n",
       "      <th>Debt</th>\n",
       "      <th>Ethnicity</th>\n",
       "      <th>Years Employed</th>\n",
       "      <th>Prior Default</th>\n",
       "      <th>Employed</th>\n",
       "      <th>Credit Score</th>\n",
       "      <th>Driving License</th>\n",
       "      <th>Income</th>\n",
       "    </tr>\n",
       "  </thead>\n",
       "  <tbody>\n",
       "    <tr>\n",
       "      <th>52</th>\n",
       "      <td>0.494047</td>\n",
       "      <td>-0.546526</td>\n",
       "      <td>0</td>\n",
       "      <td>-0.652915</td>\n",
       "      <td>0</td>\n",
       "      <td>1</td>\n",
       "      <td>-0.493887</td>\n",
       "      <td>1</td>\n",
       "      <td>0.918616</td>\n",
       "    </tr>\n",
       "    <tr>\n",
       "      <th>655</th>\n",
       "      <td>-0.885475</td>\n",
       "      <td>0.048502</td>\n",
       "      <td>3</td>\n",
       "      <td>-0.664877</td>\n",
       "      <td>1</td>\n",
       "      <td>1</td>\n",
       "      <td>-0.493887</td>\n",
       "      <td>0</td>\n",
       "      <td>-0.195413</td>\n",
       "    </tr>\n",
       "    <tr>\n",
       "      <th>577</th>\n",
       "      <td>-0.540173</td>\n",
       "      <td>0.249525</td>\n",
       "      <td>0</td>\n",
       "      <td>-0.365841</td>\n",
       "      <td>0</td>\n",
       "      <td>0</td>\n",
       "      <td>0.123472</td>\n",
       "      <td>0</td>\n",
       "      <td>-0.195413</td>\n",
       "    </tr>\n",
       "    <tr>\n",
       "      <th>178</th>\n",
       "      <td>-1.110049</td>\n",
       "      <td>0.902850</td>\n",
       "      <td>0</td>\n",
       "      <td>-0.303044</td>\n",
       "      <td>0</td>\n",
       "      <td>0</td>\n",
       "      <td>0.329258</td>\n",
       "      <td>0</td>\n",
       "      <td>-0.091693</td>\n",
       "    </tr>\n",
       "    <tr>\n",
       "      <th>558</th>\n",
       "      <td>1.676012</td>\n",
       "      <td>-0.948572</td>\n",
       "      <td>1</td>\n",
       "      <td>-0.652915</td>\n",
       "      <td>0</td>\n",
       "      <td>1</td>\n",
       "      <td>-0.493887</td>\n",
       "      <td>0</td>\n",
       "      <td>0.380809</td>\n",
       "    </tr>\n",
       "    <tr>\n",
       "      <th>...</th>\n",
       "      <td>...</td>\n",
       "      <td>...</td>\n",
       "      <td>...</td>\n",
       "      <td>...</td>\n",
       "      <td>...</td>\n",
       "      <td>...</td>\n",
       "      <td>...</td>\n",
       "      <td>...</td>\n",
       "      <td>...</td>\n",
       "    </tr>\n",
       "    <tr>\n",
       "      <th>534</th>\n",
       "      <td>0.022105</td>\n",
       "      <td>-0.454056</td>\n",
       "      <td>0</td>\n",
       "      <td>1.577888</td>\n",
       "      <td>0</td>\n",
       "      <td>1</td>\n",
       "      <td>-0.493887</td>\n",
       "      <td>1</td>\n",
       "      <td>-0.195413</td>\n",
       "    </tr>\n",
       "    <tr>\n",
       "      <th>584</th>\n",
       "      <td>-0.294493</td>\n",
       "      <td>2.058732</td>\n",
       "      <td>5</td>\n",
       "      <td>-0.664877</td>\n",
       "      <td>0</td>\n",
       "      <td>1</td>\n",
       "      <td>-0.493887</td>\n",
       "      <td>0</td>\n",
       "      <td>2.342269</td>\n",
       "    </tr>\n",
       "    <tr>\n",
       "      <th>493</th>\n",
       "      <td>-0.934442</td>\n",
       "      <td>1.422494</td>\n",
       "      <td>1</td>\n",
       "      <td>1.129335</td>\n",
       "      <td>0</td>\n",
       "      <td>1</td>\n",
       "      <td>-0.493887</td>\n",
       "      <td>0</td>\n",
       "      <td>-0.195413</td>\n",
       "    </tr>\n",
       "    <tr>\n",
       "      <th>527</th>\n",
       "      <td>2.153864</td>\n",
       "      <td>-0.889271</td>\n",
       "      <td>2</td>\n",
       "      <td>-0.365841</td>\n",
       "      <td>0</td>\n",
       "      <td>1</td>\n",
       "      <td>-0.493887</td>\n",
       "      <td>1</td>\n",
       "      <td>0.226573</td>\n",
       "    </tr>\n",
       "    <tr>\n",
       "      <th>168</th>\n",
       "      <td>0.430727</td>\n",
       "      <td>-0.303288</td>\n",
       "      <td>1</td>\n",
       "      <td>2.026440</td>\n",
       "      <td>0</td>\n",
       "      <td>1</td>\n",
       "      <td>-0.493887</td>\n",
       "      <td>1</td>\n",
       "      <td>-0.072678</td>\n",
       "    </tr>\n",
       "  </tbody>\n",
       "</table>\n",
       "<p>483 rows × 9 columns</p>\n",
       "</div>"
      ],
      "text/plain": [
       "          Age      Debt  Ethnicity  Years Employed  Prior Default  Employed  \\\n",
       "52   0.494047 -0.546526          0       -0.652915              0         1   \n",
       "655 -0.885475  0.048502          3       -0.664877              1         1   \n",
       "577 -0.540173  0.249525          0       -0.365841              0         0   \n",
       "178 -1.110049  0.902850          0       -0.303044              0         0   \n",
       "558  1.676012 -0.948572          1       -0.652915              0         1   \n",
       "..        ...       ...        ...             ...            ...       ...   \n",
       "534  0.022105 -0.454056          0        1.577888              0         1   \n",
       "584 -0.294493  2.058732          5       -0.664877              0         1   \n",
       "493 -0.934442  1.422494          1        1.129335              0         1   \n",
       "527  2.153864 -0.889271          2       -0.365841              0         1   \n",
       "168  0.430727 -0.303288          1        2.026440              0         1   \n",
       "\n",
       "     Credit Score  Driving License    Income  \n",
       "52      -0.493887                1  0.918616  \n",
       "655     -0.493887                0 -0.195413  \n",
       "577      0.123472                0 -0.195413  \n",
       "178      0.329258                0 -0.091693  \n",
       "558     -0.493887                0  0.380809  \n",
       "..            ...              ...       ...  \n",
       "534     -0.493887                1 -0.195413  \n",
       "584     -0.493887                0  2.342269  \n",
       "493     -0.493887                0 -0.195413  \n",
       "527     -0.493887                1  0.226573  \n",
       "168     -0.493887                1 -0.072678  \n",
       "\n",
       "[483 rows x 9 columns]"
      ]
     },
     "execution_count": 131,
     "metadata": {},
     "output_type": "execute_result"
    }
   ],
   "source": [
    "xTrain"
   ]
  },
  {
   "cell_type": "markdown",
   "id": "0c154cbb-a856-41c5-9236-d4a3dd95b5ee",
   "metadata": {},
   "source": [
    "### Fitting models"
   ]
  },
  {
   "cell_type": "code",
   "execution_count": 132,
   "id": "6bfafaad-85c6-4b56-a1d7-f80b0dcdd9c2",
   "metadata": {},
   "outputs": [],
   "source": [
    "from sklearn.linear_model import LogisticRegression\n"
   ]
  },
  {
   "cell_type": "code",
   "execution_count": 133,
   "id": "1315fd3d-2566-43fb-84aa-512c94974a90",
   "metadata": {},
   "outputs": [
    {
     "name": "stderr",
     "output_type": "stream",
     "text": [
      "/opt/anaconda3/lib/python3.9/site-packages/sklearn/utils/validation.py:63: DataConversionWarning: A column-vector y was passed when a 1d array was expected. Please change the shape of y to (n_samples, ), for example using ravel().\n",
      "  return f(*args, **kwargs)\n"
     ]
    }
   ],
   "source": [
    "lr = LogisticRegression(random_state = 0)\n",
    "lr.fit(xTrain, yTrain)\n",
    "ypred=lr.predict(xTest)"
   ]
  },
  {
   "cell_type": "code",
   "execution_count": 134,
   "id": "e29db90f-8b43-4f3a-8cff-467a72605992",
   "metadata": {},
   "outputs": [],
   "source": [
    "ypred=lr.predict(xTest)"
   ]
  },
  {
   "cell_type": "code",
   "execution_count": 135,
   "id": "d4eb79bc-8d10-4aff-8d0f-3ee3abb1a748",
   "metadata": {},
   "outputs": [],
   "source": [
    "y_pred_lr = [1 if x >= 0.50 else 0 for x in (lr.predict_proba(xTest)[:, 1])]"
   ]
  },
  {
   "cell_type": "code",
   "execution_count": 136,
   "id": "69e77718-c1b8-43fe-9f35-d39e5a0277fd",
   "metadata": {},
   "outputs": [
    {
     "name": "stdout",
     "output_type": "stream",
     "text": [
      "89\n"
     ]
    }
   ],
   "source": [
    "from sklearn import metrics\n",
    "\n",
    "from sklearn.metrics import confusion_matrix\n",
    "from sklearn.metrics import precision_score, recall_score\n",
    "def get_confusion_matrix_values(y_true, y_pred):\n",
    "    cm = confusion_matrix(y_true, y_pred)\n",
    "    return(cm[0][0], cm[0][1], cm[1][0], cm[1][1])\n",
    "print(round(precision_score(yTest,ypred)*100))"
   ]
  },
  {
   "cell_type": "code",
   "execution_count": 137,
   "id": "115575f6-c40d-4ece-8516-51a190af872f",
   "metadata": {},
   "outputs": [
    {
     "name": "stdout",
     "output_type": "stream",
     "text": [
      "              precision    recall  f1-score   support\n",
      "\n",
      "           0       0.89      0.88      0.89       102\n",
      "           1       0.89      0.90      0.89       105\n",
      "\n",
      "    accuracy                           0.89       207\n",
      "   macro avg       0.89      0.89      0.89       207\n",
      "weighted avg       0.89      0.89      0.89       207\n",
      "\n"
     ]
    },
    {
     "data": {
      "text/plain": [
       "<AxesSubplot:>"
      ]
     },
     "execution_count": 137,
     "metadata": {},
     "output_type": "execute_result"
    },
    {
     "data": {
      "image/png": "[encoded data removed]",
      "text/plain": [
       "<Figure size 432x288 with 2 Axes>"
      ]
     },
     "metadata": {
      "needs_background": "light"
     },
     "output_type": "display_data"
    }
   ],
   "source": [
    "from sklearn.metrics import classification_report\n",
    "print(classification_report(yTest,ypred))\n",
    "sns.heatmap(confusion_matrix(yTest,ypred),annot=True)"
   ]
  },
  {
   "cell_type": "code",
   "execution_count": 101,
   "id": "d8f280db-6af3-4b16-869f-8f8a4dfa035f",
   "metadata": {},
   "outputs": [
    {
     "name": "stdout",
     "output_type": "stream",
     "text": [
      "Accuracy 85.99033816425121\n"
     ]
    }
   ],
   "source": [
    "print(\"Accuracy\", metrics.accuracy_score(yTest, ypred)*100)"
   ]
  },
  {
   "cell_type": "code",
   "execution_count": 102,
   "id": "f27f7839-88d7-4bea-a77b-2d7c5e0df397",
   "metadata": {},
   "outputs": [
    {
     "data": {
      "image/png": "[encoded data removed]",
      "text/plain": [
       "<Figure size 432x288 with 1 Axes>"
      ]
     },
     "metadata": {
      "needs_background": "light"
     },
     "output_type": "display_data"
    }
   ],
   "source": [
    "y_pred_proba = lr.predict_proba(xTest)[::,1]\n",
    "fpr, tpr, _ = metrics.roc_curve(yTest,  y_pred_proba)\n",
    "auc = metrics.roc_auc_score(yTest, y_pred_proba)\n",
    "plt.plot(fpr,tpr,label=\"Logistic reg, auc=\"+str(auc))\n",
    "plt.legend(loc=4)\n",
    "plt.show()"
   ]
  },
  {
   "cell_type": "code",
   "execution_count": 103,
   "id": "2a2828fe-a3f5-4d04-ac68-af8bd1dc80ed",
   "metadata": {},
   "outputs": [
    {
     "name": "stderr",
     "output_type": "stream",
     "text": [
      "/opt/anaconda3/lib/python3.9/site-packages/sklearn/utils/validation.py:63: DataConversionWarning: A column-vector y was passed when a 1d array was expected. Please change the shape of y to (n_samples, ), for example using ravel().\n",
      "  return f(*args, **kwargs)\n"
     ]
    }
   ],
   "source": [
    "from sklearn.ensemble import GradientBoostingClassifier\n",
    "\n",
    "clf = GradientBoostingClassifier(random_state=0)\n",
    "clf.fit(xTrain, yTrain)\n",
    "\n",
    "testPred = clf.predict(xTest)"
   ]
  },
  {
   "cell_type": "code",
   "execution_count": 104,
   "id": "d514a5ce-0434-4cf4-859c-9a5dea67dc14",
   "metadata": {},
   "outputs": [
    {
     "name": "stdout",
     "output_type": "stream",
     "text": [
      "              precision    recall  f1-score   support\n",
      "\n",
      "           0       0.88      0.84      0.86       102\n",
      "           1       0.85      0.89      0.87       105\n",
      "\n",
      "    accuracy                           0.86       207\n",
      "   macro avg       0.87      0.86      0.86       207\n",
      "weighted avg       0.87      0.86      0.86       207\n",
      "\n"
     ]
    },
    {
     "data": {
      "text/plain": [
       "<AxesSubplot:>"
      ]
     },
     "execution_count": 104,
     "metadata": {},
     "output_type": "execute_result"
    },
    {
     "data": {
      "image/png": "[encoded data removed]",
      "text/plain": [
       "<Figure size 432x288 with 2 Axes>"
      ]
     },
     "metadata": {
      "needs_background": "light"
     },
     "output_type": "display_data"
    }
   ],
   "source": [
    "from sklearn.metrics import classification_report\n",
    "print(classification_report(yTest,testPred))\n",
    "sns.heatmap(confusion_matrix(yTest,testPred),annot=True)"
   ]
  },
  {
   "cell_type": "code",
   "execution_count": 105,
   "id": "bc3fa491-316c-47dd-97fd-125fdcadcde6",
   "metadata": {},
   "outputs": [
    {
     "data": {
      "image/png": "[encoded data removed]",
      "text/plain": [
       "<Figure size 432x288 with 1 Axes>"
      ]
     },
     "metadata": {
      "needs_background": "light"
     },
     "output_type": "display_data"
    }
   ],
   "source": [
    "y_pred_proba_gb = clf.predict_proba(xTest)[::,1]\n",
    "fpr, tpr, _ = metrics.roc_curve(yTest,  y_pred_proba_gb)\n",
    "auc = metrics.roc_auc_score(yTest, y_pred_proba_gb)\n",
    "plt.plot(fpr,tpr,label=\"Gb Clf, auc=\"+str(auc))\n",
    "plt.legend(loc=4)\n",
    "plt.show()"
   ]
  },
  {
   "cell_type": "code",
   "execution_count": 106,
   "id": "700e7579-f106-4cd4-9658-bb9eb9a84843",
   "metadata": {},
   "outputs": [],
   "source": [
    "from sklearn.svm import SVC\n",
    "svc = SVC(kernel='linear',verbose=True, probability=True)"
   ]
  },
  {
   "cell_type": "code",
   "execution_count": 107,
   "id": "314b2d49-f775-45c2-ad6f-735bdc1be57d",
   "metadata": {},
   "outputs": [
    {
     "name": "stdout",
     "output_type": "stream",
     "text": [
      "[LibSVM]*\n",
      "optimization finished, #iter = 227\n",
      "obj = -118.000021, rho = -1.000607\n",
      "nSV = 160, nBSV = 99\n",
      "Total nSV = 160\n",
      "*\n",
      "optimization finished, #iter = 219\n",
      "obj = -130.000114, rho = -1.000290\n",
      "nSV = 164, nBSV = 111\n",
      "Total nSV = 164\n",
      "*\n",
      "optimization finished, #iter = 197\n",
      "obj = -128.000085, rho = -0.999970\n",
      "nSV = 159, nBSV = 113\n",
      "Total nSV = 159\n",
      "*\n",
      "optimization finished, #iter = 231\n",
      "obj = -122.000008, rho = -1.000406\n",
      "nSV = 147, nBSV = 102\n",
      "Total nSV = 147\n",
      "*\n",
      "optimization finished, #iter = 192\n",
      "obj = -120.000004, rho = -1.000058\n",
      "nSV = 154, nBSV = 101\n",
      "Total nSV = 154\n",
      "*"
     ]
    },
    {
     "name": "stderr",
     "output_type": "stream",
     "text": [
      "/opt/anaconda3/lib/python3.9/site-packages/sklearn/utils/validation.py:63: DataConversionWarning: A column-vector y was passed when a 1d array was expected. Please change the shape of y to (n_samples, ), for example using ravel().\n",
      "  return f(*args, **kwargs)\n"
     ]
    },
    {
     "data": {
      "text/plain": [
       "SVC(kernel='linear', probability=True, verbose=True)"
      ]
     },
     "execution_count": 107,
     "metadata": {},
     "output_type": "execute_result"
    },
    {
     "name": "stdout",
     "output_type": "stream",
     "text": [
      "\n",
      "optimization finished, #iter = 280\n",
      "obj = -154.000067, rho = 0.999873\n",
      "nSV = 194, nBSV = 132\n",
      "Total nSV = 194\n"
     ]
    }
   ],
   "source": [
    "svc.fit(xTrain,yTrain)"
   ]
  },
  {
   "cell_type": "code",
   "execution_count": 108,
   "id": "ecbb2132-ccd7-42c5-bdf1-0eada74057a5",
   "metadata": {},
   "outputs": [],
   "source": [
    "y_pred_svm=svc.predict(xTest)"
   ]
  },
  {
   "cell_type": "code",
   "execution_count": 109,
   "id": "97c342d7-1739-469d-aba9-9c5fc74ed48c",
   "metadata": {},
   "outputs": [
    {
     "name": "stdout",
     "output_type": "stream",
     "text": [
      "              precision    recall  f1-score   support\n",
      "\n",
      "           0       0.85      0.92      0.89       102\n",
      "           1       0.92      0.85      0.88       105\n",
      "\n",
      "    accuracy                           0.88       207\n",
      "   macro avg       0.89      0.88      0.88       207\n",
      "weighted avg       0.89      0.88      0.88       207\n",
      "\n"
     ]
    }
   ],
   "source": [
    "print(classification_report(yTest,y_pred_svm))"
   ]
  },
  {
   "cell_type": "code",
   "execution_count": 110,
   "id": "5d6fa226-e919-47cc-a3e5-06b6c0718bc8",
   "metadata": {},
   "outputs": [
    {
     "data": {
      "text/plain": [
       "<AxesSubplot:>"
      ]
     },
     "execution_count": 110,
     "metadata": {},
     "output_type": "execute_result"
    },
    {
     "data": {
      "image/png": "[encoded data removed]",
      "text/plain": [
       "<Figure size 432x288 with 2 Axes>"
      ]
     },
     "metadata": {
      "needs_background": "light"
     },
     "output_type": "display_data"
    }
   ],
   "source": [
    "\n",
    "sns.heatmap(confusion_matrix(yTest,y_pred_svm),annot=True)"
   ]
  },
  {
   "cell_type": "code",
   "execution_count": 111,
   "id": "1658142a-a212-4fb5-88f4-53b0e118b1c8",
   "metadata": {},
   "outputs": [
    {
     "data": {
      "image/png": "[encoded data removed]",
      "text/plain": [
       "<Figure size 432x288 with 1 Axes>"
      ]
     },
     "metadata": {
      "needs_background": "light"
     },
     "output_type": "display_data"
    }
   ],
   "source": [
    "y_pred_proba_svm = svc.predict_proba(xTest)[::,1]\n",
    "fpr, tpr, _ = metrics.roc_curve(yTest,  y_pred_proba_svm)\n",
    "auc = metrics.roc_auc_score(yTest, y_pred_proba_svm)\n",
    "plt.plot(fpr,tpr,label=\"svm Clf, auc=\"+str(auc))\n",
    "plt.legend(loc=4)\n",
    "plt.show()"
   ]
  },
  {
   "cell_type": "code",
   "execution_count": 112,
   "id": "0ac269db-0764-4b65-8ac9-5aa8bb35cc27",
   "metadata": {},
   "outputs": [],
   "source": [
    "from sklearn.ensemble import RandomForestClassifier as rfc"
   ]
  },
  {
   "cell_type": "code",
   "execution_count": 113,
   "id": "48e66f80-7536-403a-b7b9-887a1ef4bf8c",
   "metadata": {},
   "outputs": [],
   "source": [
    "\n",
    "rforest = rfc(n_jobs = -1, max_features = 0.1, n_estimators = 100, bootstrap=False, random_state = 50, max_depth = 10)"
   ]
  },
  {
   "cell_type": "code",
   "execution_count": 114,
   "id": "b8fca416-82d0-47d7-a73b-0b811f980d4a",
   "metadata": {},
   "outputs": [
    {
     "name": "stderr",
     "output_type": "stream",
     "text": [
      "/var/folders/vn/h7gjf32s4pb7x8cgs4kfb2840000gn/T/ipykernel_1210/3034258668.py:1: DataConversionWarning: A column-vector y was passed when a 1d array was expected. Please change the shape of y to (n_samples,), for example using ravel().\n",
      "  rforest.fit(xTrain,yTrain)\n"
     ]
    },
    {
     "data": {
      "text/plain": [
       "RandomForestClassifier(bootstrap=False, max_depth=10, max_features=0.1,\n",
       "                       n_jobs=-1, random_state=50)"
      ]
     },
     "execution_count": 114,
     "metadata": {},
     "output_type": "execute_result"
    }
   ],
   "source": [
    "rforest.fit(xTrain,yTrain)"
   ]
  },
  {
   "cell_type": "code",
   "execution_count": 115,
   "id": "4050d2b4-545c-4d60-9cce-eb130dbe4f39",
   "metadata": {},
   "outputs": [],
   "source": [
    "y_pred_rf=rforest.predict(xTest)"
   ]
  },
  {
   "cell_type": "code",
   "execution_count": 116,
   "id": "493a0ab6-8091-4cd7-9277-ea77922fcd69",
   "metadata": {},
   "outputs": [
    {
     "name": "stdout",
     "output_type": "stream",
     "text": [
      "              precision    recall  f1-score   support\n",
      "\n",
      "           0       0.92      0.78      0.85       102\n",
      "           1       0.82      0.93      0.87       105\n",
      "\n",
      "    accuracy                           0.86       207\n",
      "   macro avg       0.87      0.86      0.86       207\n",
      "weighted avg       0.87      0.86      0.86       207\n",
      "\n"
     ]
    }
   ],
   "source": [
    "print(classification_report(yTest,y_pred_rf))"
   ]
  },
  {
   "cell_type": "code",
   "execution_count": 117,
   "id": "53fe1859-160d-4e6a-a811-a8850a6d1810",
   "metadata": {},
   "outputs": [
    {
     "name": "stdout",
     "output_type": "stream",
     "text": [
      "[[80 22]\n",
      " [ 7 98]]\n"
     ]
    },
    {
     "data": {
      "text/plain": [
       "<AxesSubplot:>"
      ]
     },
     "execution_count": 117,
     "metadata": {},
     "output_type": "execute_result"
    },
    {
     "data": {
      "image/png": "[encoded data removed]",
      "text/plain": [
       "<Figure size 432x288 with 2 Axes>"
      ]
     },
     "metadata": {
      "needs_background": "light"
     },
     "output_type": "display_data"
    }
   ],
   "source": [
    "print(confusion_matrix(yTest,y_pred_rf))\n",
    "sns.heatmap(confusion_matrix(yTest,y_pred_rf),annot=True)"
   ]
  },
  {
   "cell_type": "code",
   "execution_count": 68,
   "id": "1fa8fa43-8338-4c14-8b10-b557b224612e",
   "metadata": {},
   "outputs": [
    {
     "name": "stdout",
     "output_type": "stream",
     "text": [
      "Gender = 0.011719824342316039\n",
      "Age = 0.11256343409052531\n",
      "Debt = 0.11534307828021709\n",
      "Ethnicity = 0.05978456263186318\n",
      "Years Employed = 0.14498410257607316\n",
      "Prior Default = 0.24764997814348608\n",
      "Employed = 0.06721156999714893\n",
      "Credit Score = 0.11448827633997961\n",
      "Driving License = 0.012398750780321634\n",
      "Income = 0.11385642281806897\n"
     ]
    }
   ],
   "source": [
    "for name, importance in zip(xTest.columns, rforest.feature_importances_):\n",
    "    print(name, \"=\", importance)\n"
   ]
  },
  {
   "cell_type": "markdown",
   "id": "1f93498c-10bd-4f1e-a499-e82b1fc110a6",
   "metadata": {},
   "source": [
    "### Storing Models"
   ]
  },
  {
   "cell_type": "code",
   "execution_count": null,
   "id": "719d31f4-be1d-4e4b-ad44-66823248c2a4",
   "metadata": {},
   "outputs": [],
   "source": [
    "import pickle\n",
    "# pickle.dump(pipe_svm, open('svm_singa.pkl', 'wb'))"
   ]
  },
  {
   "cell_type": "code",
   "execution_count": 140,
   "id": "e7597cc1-0b6e-475b-9229-8ac411a6e3df",
   "metadata": {},
   "outputs": [],
   "source": [
    "def loadPickle(path):\n",
    "    with open(path, \"rb\") as f:\n",
    "        return pickle.load(f) "
   ]
  },
  {
   "cell_type": "code",
   "execution_count": 144,
   "id": "d1e40106-1110-4e1e-a0c6-420e276cd785",
   "metadata": {},
   "outputs": [],
   "source": [
    "def dumpPickle(model,name):\n",
    "    pickle.dump(model, open(name+\".pkl\", 'wb'))"
   ]
  },
  {
   "cell_type": "code",
   "execution_count": 147,
   "id": "126c5c6a-2d4c-41a9-a02b-f23ab9b07828",
   "metadata": {},
   "outputs": [],
   "source": [
    "dumpPickle(clf,\"gb\")"
   ]
  },
  {
   "cell_type": "code",
   "execution_count": 101,
   "id": "780e9396-4124-4127-8663-af1ec6dfdeed",
   "metadata": {},
   "outputs": [
    {
     "data": {
      "text/html": [
       "<div>\n",
       "<style scoped>\n",
       "    .dataframe tbody tr th:only-of-type {\n",
       "        vertical-align: middle;\n",
       "    }\n",
       "\n",
       "    .dataframe tbody tr th {\n",
       "        vertical-align: top;\n",
       "    }\n",
       "\n",
       "    .dataframe thead th {\n",
       "        text-align: right;\n",
       "    }\n",
       "</style>\n",
       "<table border=\"1\" class=\"dataframe\">\n",
       "  <thead>\n",
       "    <tr style=\"text-align: right;\">\n",
       "      <th></th>\n",
       "      <th>Gender</th>\n",
       "      <th>Age</th>\n",
       "      <th>Debt</th>\n",
       "      <th>Ethnicity</th>\n",
       "      <th>Years Employed</th>\n",
       "      <th>Prior Default</th>\n",
       "      <th>Employed</th>\n",
       "      <th>Credit Score</th>\n",
       "      <th>Driving License</th>\n",
       "      <th>Income</th>\n",
       "    </tr>\n",
       "  </thead>\n",
       "  <tbody>\n",
       "    <tr>\n",
       "      <th>52</th>\n",
       "      <td>0</td>\n",
       "      <td>0.494047</td>\n",
       "      <td>-0.546526</td>\n",
       "      <td>0</td>\n",
       "      <td>-0.652915</td>\n",
       "      <td>0</td>\n",
       "      <td>1</td>\n",
       "      <td>-0.493887</td>\n",
       "      <td>1</td>\n",
       "      <td>0.918616</td>\n",
       "    </tr>\n",
       "    <tr>\n",
       "      <th>655</th>\n",
       "      <td>1</td>\n",
       "      <td>-0.885475</td>\n",
       "      <td>0.048502</td>\n",
       "      <td>3</td>\n",
       "      <td>-0.664877</td>\n",
       "      <td>1</td>\n",
       "      <td>1</td>\n",
       "      <td>-0.493887</td>\n",
       "      <td>0</td>\n",
       "      <td>-0.195413</td>\n",
       "    </tr>\n",
       "    <tr>\n",
       "      <th>577</th>\n",
       "      <td>0</td>\n",
       "      <td>-0.540173</td>\n",
       "      <td>0.249525</td>\n",
       "      <td>0</td>\n",
       "      <td>-0.365841</td>\n",
       "      <td>0</td>\n",
       "      <td>0</td>\n",
       "      <td>0.123472</td>\n",
       "      <td>0</td>\n",
       "      <td>-0.195413</td>\n",
       "    </tr>\n",
       "    <tr>\n",
       "      <th>178</th>\n",
       "      <td>1</td>\n",
       "      <td>-1.110049</td>\n",
       "      <td>0.902850</td>\n",
       "      <td>0</td>\n",
       "      <td>-0.303044</td>\n",
       "      <td>0</td>\n",
       "      <td>0</td>\n",
       "      <td>0.329258</td>\n",
       "      <td>0</td>\n",
       "      <td>-0.091693</td>\n",
       "    </tr>\n",
       "    <tr>\n",
       "      <th>558</th>\n",
       "      <td>0</td>\n",
       "      <td>1.676012</td>\n",
       "      <td>-0.948572</td>\n",
       "      <td>1</td>\n",
       "      <td>-0.652915</td>\n",
       "      <td>0</td>\n",
       "      <td>1</td>\n",
       "      <td>-0.493887</td>\n",
       "      <td>0</td>\n",
       "      <td>0.380809</td>\n",
       "    </tr>\n",
       "    <tr>\n",
       "      <th>...</th>\n",
       "      <td>...</td>\n",
       "      <td>...</td>\n",
       "      <td>...</td>\n",
       "      <td>...</td>\n",
       "      <td>...</td>\n",
       "      <td>...</td>\n",
       "      <td>...</td>\n",
       "      <td>...</td>\n",
       "      <td>...</td>\n",
       "      <td>...</td>\n",
       "    </tr>\n",
       "    <tr>\n",
       "      <th>534</th>\n",
       "      <td>0</td>\n",
       "      <td>0.022105</td>\n",
       "      <td>-0.454056</td>\n",
       "      <td>0</td>\n",
       "      <td>1.577888</td>\n",
       "      <td>0</td>\n",
       "      <td>1</td>\n",
       "      <td>-0.493887</td>\n",
       "      <td>1</td>\n",
       "      <td>-0.195413</td>\n",
       "    </tr>\n",
       "    <tr>\n",
       "      <th>584</th>\n",
       "      <td>1</td>\n",
       "      <td>-0.294493</td>\n",
       "      <td>2.058732</td>\n",
       "      <td>5</td>\n",
       "      <td>-0.664877</td>\n",
       "      <td>0</td>\n",
       "      <td>1</td>\n",
       "      <td>-0.493887</td>\n",
       "      <td>0</td>\n",
       "      <td>2.342269</td>\n",
       "    </tr>\n",
       "    <tr>\n",
       "      <th>493</th>\n",
       "      <td>1</td>\n",
       "      <td>-0.934442</td>\n",
       "      <td>1.422494</td>\n",
       "      <td>1</td>\n",
       "      <td>1.129335</td>\n",
       "      <td>0</td>\n",
       "      <td>1</td>\n",
       "      <td>-0.493887</td>\n",
       "      <td>0</td>\n",
       "      <td>-0.195413</td>\n",
       "    </tr>\n",
       "    <tr>\n",
       "      <th>527</th>\n",
       "      <td>1</td>\n",
       "      <td>2.153864</td>\n",
       "      <td>-0.889271</td>\n",
       "      <td>2</td>\n",
       "      <td>-0.365841</td>\n",
       "      <td>0</td>\n",
       "      <td>1</td>\n",
       "      <td>-0.493887</td>\n",
       "      <td>1</td>\n",
       "      <td>0.226573</td>\n",
       "    </tr>\n",
       "    <tr>\n",
       "      <th>168</th>\n",
       "      <td>0</td>\n",
       "      <td>0.430727</td>\n",
       "      <td>-0.303288</td>\n",
       "      <td>1</td>\n",
       "      <td>2.026440</td>\n",
       "      <td>0</td>\n",
       "      <td>1</td>\n",
       "      <td>-0.493887</td>\n",
       "      <td>1</td>\n",
       "      <td>-0.072678</td>\n",
       "    </tr>\n",
       "  </tbody>\n",
       "</table>\n",
       "<p>483 rows × 10 columns</p>\n",
       "</div>"
      ],
      "text/plain": [
       "     Gender       Age      Debt  Ethnicity  Years Employed  Prior Default  \\\n",
       "52        0  0.494047 -0.546526          0       -0.652915              0   \n",
       "655       1 -0.885475  0.048502          3       -0.664877              1   \n",
       "577       0 -0.540173  0.249525          0       -0.365841              0   \n",
       "178       1 -1.110049  0.902850          0       -0.303044              0   \n",
       "558       0  1.676012 -0.948572          1       -0.652915              0   \n",
       "..      ...       ...       ...        ...             ...            ...   \n",
       "534       0  0.022105 -0.454056          0        1.577888              0   \n",
       "584       1 -0.294493  2.058732          5       -0.664877              0   \n",
       "493       1 -0.934442  1.422494          1        1.129335              0   \n",
       "527       1  2.153864 -0.889271          2       -0.365841              0   \n",
       "168       0  0.430727 -0.303288          1        2.026440              0   \n",
       "\n",
       "     Employed  Credit Score  Driving License    Income  \n",
       "52          1     -0.493887                1  0.918616  \n",
       "655         1     -0.493887                0 -0.195413  \n",
       "577         0      0.123472                0 -0.195413  \n",
       "178         0      0.329258                0 -0.091693  \n",
       "558         1     -0.493887                0  0.380809  \n",
       "..        ...           ...              ...       ...  \n",
       "534         1     -0.493887                1 -0.195413  \n",
       "584         1     -0.493887                0  2.342269  \n",
       "493         1     -0.493887                0 -0.195413  \n",
       "527         1     -0.493887                1  0.226573  \n",
       "168         1     -0.493887                1 -0.072678  \n",
       "\n",
       "[483 rows x 10 columns]"
      ]
     },
     "execution_count": 101,
     "metadata": {},
     "output_type": "execute_result"
    }
   ],
   "source": [
    "xTrain"
   ]
  }
 ],
 "metadata": {
  "kernelspec": {
   "display_name": "Python 3 (ipykernel)",
   "language": "python",
   "name": "python3"
  },
  "language_info": {
   "codemirror_mode": {
    "name": "ipython",
    "version": 3
   },
   "file_extension": ".py",
   "mimetype": "text/x-python",
   "name": "python",
   "nbconvert_exporter": "python",
   "pygments_lexer": "ipython3",
   "version": "3.9.7"
  }
 },
 "nbformat": 4,
 "nbformat_minor": 5
}
