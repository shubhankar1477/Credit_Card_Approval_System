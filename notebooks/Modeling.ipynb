{
 "cells": [
  {
   "cell_type": "code",
   "execution_count": 207,
   "id": "9adb0dc9-5c51-4dac-8fa0-419ca36af5f2",
   "metadata": {},
   "outputs": [
    {
     "name": "stdout",
     "output_type": "stream",
     "text": [
      "The autoreload extension is already loaded. To reload it, use:\n",
      "  %reload_ext autoreload\n"
     ]
    }
   ],
   "source": [
    "import pandas as pd\n",
    "import numpy as np\n",
    "from IPython.display import  display,HTML\n",
    "import seaborn as sns\n",
    "import sys \n",
    "import os\n",
    "%load_ext autoreload\n",
    "%reload_ext autoreload\n",
    "\n",
    "from src.utility import plotValueCounts,get_accuracy,get_f1_score,get_precision,plotBoxPlots,get_recall,get_auc\n",
    "from src.config import TRAINING_FILE,MODELS,MODEL_TRAINING_FILE\n"
   ]
  },
  {
   "cell_type": "code",
   "execution_count": 208,
   "id": "8367e399-9582-46d1-beee-3155450c76e9",
   "metadata": {},
   "outputs": [],
   "source": [
    "credit_card_dataset = pd.read_csv(MODEL_TRAINING_FILE)"
   ]
  },
  {
   "cell_type": "markdown",
   "id": "25f68f09-f7b3-4a5f-a727-8a78fcc433d9",
   "metadata": {},
   "source": [
    "### Splitiing Data"
   ]
  },
  {
   "cell_type": "code",
   "execution_count": 209,
   "id": "8e66fdd2-86af-4a33-b52f-010dc5d6ae57",
   "metadata": {},
   "outputs": [],
   "source": [
    "from sklearn.model_selection import train_test_split\n"
   ]
  },
  {
   "cell_type": "code",
   "execution_count": 210,
   "id": "f524e44e-5d55-4cc9-bc76-2863723a20a3",
   "metadata": {},
   "outputs": [],
   "source": [
    "x =  ['Age', 'Debt', 'Ethnicity', 'Years Employed', 'Prior Default', 'Employed', 'Credit Score', 'Driving License', 'Income']\n",
    "\n",
    "y = ['Approved']\n",
    "# x = credit_card_dataset.columns[:len(credit_card_dataset.columns)-1]"
   ]
  },
  {
   "cell_type": "code",
   "execution_count": 211,
   "id": "4bd079cc-7874-4a59-80e5-8da3a62470a4",
   "metadata": {},
   "outputs": [],
   "source": [
    "xTrain, xTest, yTrain, yTest = train_test_split(credit_card_dataset[x], credit_card_dataset[y],test_size=0.30,random_state=2)"
   ]
  },
  {
   "cell_type": "code",
   "execution_count": null,
   "id": "305f1129-8499-46b8-8529-f8a2424cc47f",
   "metadata": {},
   "outputs": [],
   "source": []
  },
  {
   "cell_type": "markdown",
   "id": "144acea6-aaa2-4e53-b857-854646dfe5c3",
   "metadata": {},
   "source": [
    "### Fitting models"
   ]
  },
  {
   "cell_type": "code",
   "execution_count": 213,
   "id": "2eba7970-01ec-427a-9df4-aad32570c08f",
   "metadata": {},
   "outputs": [],
   "source": [
    "result=pd.DataFrame(columns=[\"model\",\"accuracy\",\"precision\",\"recall\",\"f1-score\",\"auc\"])   \n",
    "def store_results(modelName,yTest,ypred,result):\n",
    "    result=result.append([{\"model\":str(modelName),\"accuracy\":get_accuracy(yTest,ypred),\n",
    "                \"precision\":get_precision(yTest,ypred),\"recall\":get_recall(yTest,ypred),\"f1-score\":get_f1_score(yTest,ypred)}])\n",
    "    return result"
   ]
  },
  {
   "cell_type": "code",
   "execution_count": 214,
   "id": "f03ec6c3-49c9-449c-8ae5-a3044e864491",
   "metadata": {},
   "outputs": [],
   "source": [
    "from sklearn.linear_model import LogisticRegression\n",
    "result=pd.DataFrame(columns=[\"model\",\"accuracy\",\"precision\",\"recall\",\"f1-score\"])"
   ]
  },
  {
   "cell_type": "code",
   "execution_count": 215,
   "id": "1315fd3d-2566-43fb-84aa-512c94974a90",
   "metadata": {},
   "outputs": [
    {
     "name": "stdout",
     "output_type": "stream",
     "text": [
      "0.8909952606635072\n"
     ]
    },
    {
     "name": "stderr",
     "output_type": "stream",
     "text": [
      "/opt/anaconda3/lib/python3.9/site-packages/sklearn/utils/validation.py:63: DataConversionWarning: A column-vector y was passed when a 1d array was expected. Please change the shape of y to (n_samples, ), for example using ravel().\n",
      "  return f(*args, **kwargs)\n"
     ]
    }
   ],
   "source": [
    "lr = LogisticRegression(random_state = 0)\n",
    "lr.fit(xTrain, yTrain)\n",
    "ypred=lr.predict(xTest)\n",
    "print(metrics.f1_score(yTest,ypred))"
   ]
  },
  {
   "cell_type": "code",
   "execution_count": 216,
   "id": "951142ce-3456-41e3-998f-f8884488073e",
   "metadata": {},
   "outputs": [],
   "source": [
    "result=store_results(\"Logistic\",yTest,ypred,result)\n"
   ]
  },
  {
   "cell_type": "code",
   "execution_count": 217,
   "id": "d46207d5-1f13-4739-aafd-94fe7f14a8ca",
   "metadata": {},
   "outputs": [
    {
     "data": {
      "text/html": [
       "<div>\n",
       "<style scoped>\n",
       "    .dataframe tbody tr th:only-of-type {\n",
       "        vertical-align: middle;\n",
       "    }\n",
       "\n",
       "    .dataframe tbody tr th {\n",
       "        vertical-align: top;\n",
       "    }\n",
       "\n",
       "    .dataframe thead th {\n",
       "        text-align: right;\n",
       "    }\n",
       "</style>\n",
       "<table border=\"1\" class=\"dataframe\">\n",
       "  <thead>\n",
       "    <tr style=\"text-align: right;\">\n",
       "      <th></th>\n",
       "      <th>model</th>\n",
       "      <th>accuracy</th>\n",
       "      <th>precision</th>\n",
       "      <th>recall</th>\n",
       "      <th>f1-score</th>\n",
       "    </tr>\n",
       "  </thead>\n",
       "  <tbody>\n",
       "    <tr>\n",
       "      <th>0</th>\n",
       "      <td>Logistic</td>\n",
       "      <td>88.888889</td>\n",
       "      <td>88.679245</td>\n",
       "      <td>89.52381</td>\n",
       "      <td>89.099526</td>\n",
       "    </tr>\n",
       "  </tbody>\n",
       "</table>\n",
       "</div>"
      ],
      "text/plain": [
       "      model   accuracy  precision    recall   f1-score\n",
       "0  Logistic  88.888889  88.679245  89.52381  89.099526"
      ]
     },
     "execution_count": 217,
     "metadata": {},
     "output_type": "execute_result"
    }
   ],
   "source": [
    "result"
   ]
  },
  {
   "cell_type": "code",
   "execution_count": 218,
   "id": "69e77718-c1b8-43fe-9f35-d39e5a0277fd",
   "metadata": {},
   "outputs": [
    {
     "name": "stdout",
     "output_type": "stream",
     "text": [
      "89\n"
     ]
    }
   ],
   "source": [
    "from sklearn import metrics\n",
    "\n",
    "from sklearn.metrics import confusion_matrix\n",
    "from sklearn.metrics import precision_score, recall_score\n",
    "def get_confusion_matrix_values(y_true, y_pred):\n",
    "    cm = confusion_matrix(y_true, y_pred)\n",
    "    return(cm[0][0], cm[0][1], cm[1][0], cm[1][1])\n",
    "print(round(precision_score(yTest,ypred)*100))"
   ]
  },
  {
   "cell_type": "code",
   "execution_count": 219,
   "id": "115575f6-c40d-4ece-8516-51a190af872f",
   "metadata": {},
   "outputs": [
    {
     "name": "stdout",
     "output_type": "stream",
     "text": [
      "              precision    recall  f1-score   support\n",
      "\n",
      "           0       0.89      0.88      0.89       102\n",
      "           1       0.89      0.90      0.89       105\n",
      "\n",
      "    accuracy                           0.89       207\n",
      "   macro avg       0.89      0.89      0.89       207\n",
      "weighted avg       0.89      0.89      0.89       207\n",
      "\n"
     ]
    },
    {
     "data": {
      "text/plain": [
       "<AxesSubplot:>"
      ]
     },
     "execution_count": 219,
     "metadata": {},
     "output_type": "execute_result"
    },
    {
     "data": {
      "image/png": "[encoded data removed]",
      "text/plain": [
       "<Figure size 432x288 with 2 Axes>"
      ]
     },
     "metadata": {
      "needs_background": "light"
     },
     "output_type": "display_data"
    }
   ],
   "source": [
    "from sklearn.metrics import classification_report\n",
    "print(classification_report(yTest,ypred))\n",
    "sns.heatmap(confusion_matrix(yTest,ypred),annot=True)"
   ]
  },
  {
   "cell_type": "code",
   "execution_count": 220,
   "id": "d8f280db-6af3-4b16-869f-8f8a4dfa035f",
   "metadata": {},
   "outputs": [
    {
     "name": "stdout",
     "output_type": "stream",
     "text": [
      "Accuracy 88.88888888888889\n"
     ]
    }
   ],
   "source": [
    "print(\"Accuracy\", metrics.accuracy_score(yTest, ypred)*100)"
   ]
  },
  {
   "cell_type": "code",
   "execution_count": 221,
   "id": "f27f7839-88d7-4bea-a77b-2d7c5e0df397",
   "metadata": {},
   "outputs": [
    {
     "data": {
      "image/png": "[encoded data removed]",
      "text/plain": [
       "<Figure size 432x288 with 1 Axes>"
      ]
     },
     "metadata": {
      "needs_background": "light"
     },
     "output_type": "display_data"
    }
   ],
   "source": [
    "y_pred_proba = lr.predict_proba(xTest)[::,1]\n",
    "fpr, tpr, _ = metrics.roc_curve(yTest,  y_pred_proba)\n",
    "auc = metrics.roc_auc_score(yTest, y_pred_proba)\n",
    "plt.plot(fpr,tpr,label=\"Logistic reg, auc=\"+str(auc))\n",
    "plt.legend(loc=4)\n",
    "plt.show()"
   ]
  },
  {
   "cell_type": "code",
   "execution_count": 222,
   "id": "4d883cee-1f90-4138-be82-f2db3201c36a",
   "metadata": {},
   "outputs": [],
   "source": [
    "y_pred_proba = lr.predict_proba(xTest)[::,1]\n",
    "auc = metrics.roc_auc_score(yTest, y_pred_proba)\n",
    "result.loc[result.model==\"Logistic\",'auc']=auc*100"
   ]
  },
  {
   "cell_type": "code",
   "execution_count": 223,
   "id": "80795d6b-c6a7-4155-8d1f-e1e900bbb6f7",
   "metadata": {},
   "outputs": [
    {
     "data": {
      "text/html": [
       "<div>\n",
       "<style scoped>\n",
       "    .dataframe tbody tr th:only-of-type {\n",
       "        vertical-align: middle;\n",
       "    }\n",
       "\n",
       "    .dataframe tbody tr th {\n",
       "        vertical-align: top;\n",
       "    }\n",
       "\n",
       "    .dataframe thead th {\n",
       "        text-align: right;\n",
       "    }\n",
       "</style>\n",
       "<table border=\"1\" class=\"dataframe\">\n",
       "  <thead>\n",
       "    <tr style=\"text-align: right;\">\n",
       "      <th></th>\n",
       "      <th>index</th>\n",
       "      <th>model</th>\n",
       "      <th>accuracy</th>\n",
       "      <th>precision</th>\n",
       "      <th>recall</th>\n",
       "      <th>f1-score</th>\n",
       "      <th>auc</th>\n",
       "    </tr>\n",
       "  </thead>\n",
       "  <tbody>\n",
       "    <tr>\n",
       "      <th>0</th>\n",
       "      <td>0</td>\n",
       "      <td>Logistic</td>\n",
       "      <td>88.888889</td>\n",
       "      <td>88.679245</td>\n",
       "      <td>89.52381</td>\n",
       "      <td>89.099526</td>\n",
       "      <td>93.492063</td>\n",
       "    </tr>\n",
       "  </tbody>\n",
       "</table>\n",
       "</div>"
      ],
      "text/plain": [
       "   index     model   accuracy  precision    recall   f1-score        auc\n",
       "0      0  Logistic  88.888889  88.679245  89.52381  89.099526  93.492063"
      ]
     },
     "execution_count": 223,
     "metadata": {},
     "output_type": "execute_result"
    }
   ],
   "source": [
    "result.reset_index()"
   ]
  },
  {
   "cell_type": "code",
   "execution_count": 224,
   "id": "2a2828fe-a3f5-4d04-ac68-af8bd1dc80ed",
   "metadata": {},
   "outputs": [
    {
     "name": "stderr",
     "output_type": "stream",
     "text": [
      "/opt/anaconda3/lib/python3.9/site-packages/sklearn/utils/validation.py:63: DataConversionWarning: A column-vector y was passed when a 1d array was expected. Please change the shape of y to (n_samples, ), for example using ravel().\n",
      "  return f(*args, **kwargs)\n"
     ]
    }
   ],
   "source": [
    "from sklearn.ensemble import GradientBoostingClassifier\n",
    "\n",
    "clf = GradientBoostingClassifier(random_state=0)\n",
    "clf.fit(xTrain, yTrain)\n",
    "\n",
    "testPred = clf.predict(xTest)"
   ]
  },
  {
   "cell_type": "code",
   "execution_count": 226,
   "id": "d514a5ce-0434-4cf4-859c-9a5dea67dc14",
   "metadata": {},
   "outputs": [
    {
     "name": "stdout",
     "output_type": "stream",
     "text": [
      "              precision    recall  f1-score   support\n",
      "\n",
      "           0       0.89      0.83      0.86       102\n",
      "           1       0.85      0.90      0.87       105\n",
      "\n",
      "    accuracy                           0.86       207\n",
      "   macro avg       0.87      0.86      0.86       207\n",
      "weighted avg       0.87      0.86      0.86       207\n",
      "\n"
     ]
    },
    {
     "data": {
      "text/plain": [
       "<AxesSubplot:>"
      ]
     },
     "execution_count": 226,
     "metadata": {},
     "output_type": "execute_result"
    },
    {
     "data": {
      "image/png": "[encoded data removed]",
      "text/plain": [
       "<Figure size 432x288 with 2 Axes>"
      ]
     },
     "metadata": {
      "needs_background": "light"
     },
     "output_type": "display_data"
    }
   ],
   "source": [
    "from sklearn.metrics import classification_report\n",
    "print(classification_report(yTest,testPred))\n",
    "sns.heatmap(confusion_matrix(yTest,testPred),annot=True)"
   ]
  },
  {
   "cell_type": "code",
   "execution_count": 227,
   "id": "bc3fa491-316c-47dd-97fd-125fdcadcde6",
   "metadata": {},
   "outputs": [
    {
     "data": {
      "image/png": "[encoded data removed]",
      "text/plain": [
       "<Figure size 432x288 with 1 Axes>"
      ]
     },
     "metadata": {
      "needs_background": "light"
     },
     "output_type": "display_data"
    }
   ],
   "source": [
    "y_pred_proba_gb = clf.predict_proba(xTest)[::,1]\n",
    "fpr, tpr, _ = metrics.roc_curve(yTest,  y_pred_proba_gb)\n",
    "auc = metrics.roc_auc_score(yTest, y_pred_proba_gb)\n",
    "plt.plot(fpr,tpr,label=\"Gb Clf, auc=\"+str(auc))\n",
    "plt.legend(loc=4)\n",
    "plt.show()"
   ]
  },
  {
   "cell_type": "code",
   "execution_count": 228,
   "id": "9cec0fac-f295-4788-9e91-d2b344a7e962",
   "metadata": {},
   "outputs": [],
   "source": [
    "result=result.append([{\"model\":\"GradientBoosting\",\"accuracy\":get_accuracy(yTest,testPred),\n",
    "                \"precision\":get_precision(yTest,testPred),\"recall\":get_recall(yTest,testPred),\"f1-score\":get_f1_score(yTest,testPred)}])"
   ]
  },
  {
   "cell_type": "code",
   "execution_count": 229,
   "id": "fe627c79-af4c-4a8c-b1cf-a12bf87f4601",
   "metadata": {},
   "outputs": [],
   "source": [
    "result=store_results(\"GradienBoosting\",yTest,testPred,result)"
   ]
  },
  {
   "cell_type": "code",
   "execution_count": 230,
   "id": "9bb83b70-8519-4db2-84d3-133c2c60203f",
   "metadata": {},
   "outputs": [],
   "source": [
    "y_pred_proba_gb = clf.predict_proba(xTest)[::,1]\n",
    "auc = metrics.roc_auc_score(yTest, y_pred_proba_gb)\n",
    "result.loc[result.model==\"GradienBoosting\",'auc']=auc*100"
   ]
  },
  {
   "cell_type": "code",
   "execution_count": 231,
   "id": "a2ede75e-02b5-4f72-a72c-9a0d1dfb57f3",
   "metadata": {},
   "outputs": [
    {
     "data": {
      "text/html": [
       "<div>\n",
       "<style scoped>\n",
       "    .dataframe tbody tr th:only-of-type {\n",
       "        vertical-align: middle;\n",
       "    }\n",
       "\n",
       "    .dataframe tbody tr th {\n",
       "        vertical-align: top;\n",
       "    }\n",
       "\n",
       "    .dataframe thead th {\n",
       "        text-align: right;\n",
       "    }\n",
       "</style>\n",
       "<table border=\"1\" class=\"dataframe\">\n",
       "  <thead>\n",
       "    <tr style=\"text-align: right;\">\n",
       "      <th></th>\n",
       "      <th>model</th>\n",
       "      <th>accuracy</th>\n",
       "      <th>precision</th>\n",
       "      <th>recall</th>\n",
       "      <th>f1-score</th>\n",
       "      <th>auc</th>\n",
       "    </tr>\n",
       "  </thead>\n",
       "  <tbody>\n",
       "    <tr>\n",
       "      <th>0</th>\n",
       "      <td>Logistic</td>\n",
       "      <td>88.888889</td>\n",
       "      <td>88.679245</td>\n",
       "      <td>89.52381</td>\n",
       "      <td>89.099526</td>\n",
       "      <td>93.492063</td>\n",
       "    </tr>\n",
       "    <tr>\n",
       "      <th>0</th>\n",
       "      <td>GradientBoosting</td>\n",
       "      <td>86.473430</td>\n",
       "      <td>84.684685</td>\n",
       "      <td>89.52381</td>\n",
       "      <td>87.037037</td>\n",
       "      <td>NaN</td>\n",
       "    </tr>\n",
       "    <tr>\n",
       "      <th>0</th>\n",
       "      <td>GradienBoosting</td>\n",
       "      <td>86.473430</td>\n",
       "      <td>84.684685</td>\n",
       "      <td>89.52381</td>\n",
       "      <td>87.037037</td>\n",
       "      <td>93.445378</td>\n",
       "    </tr>\n",
       "  </tbody>\n",
       "</table>\n",
       "</div>"
      ],
      "text/plain": [
       "              model   accuracy  precision    recall   f1-score        auc\n",
       "0          Logistic  88.888889  88.679245  89.52381  89.099526  93.492063\n",
       "0  GradientBoosting  86.473430  84.684685  89.52381  87.037037        NaN\n",
       "0   GradienBoosting  86.473430  84.684685  89.52381  87.037037  93.445378"
      ]
     },
     "execution_count": 231,
     "metadata": {},
     "output_type": "execute_result"
    }
   ],
   "source": [
    "result"
   ]
  },
  {
   "cell_type": "code",
   "execution_count": 232,
   "id": "700e7579-f106-4cd4-9658-bb9eb9a84843",
   "metadata": {},
   "outputs": [],
   "source": [
    "from sklearn.svm import SVC\n",
    "svc = SVC(kernel='linear',verbose=True, probability=True)"
   ]
  },
  {
   "cell_type": "code",
   "execution_count": 233,
   "id": "314b2d49-f775-45c2-ad6f-735bdc1be57d",
   "metadata": {},
   "outputs": [
    {
     "name": "stdout",
     "output_type": "stream",
     "text": [
      "[LibSVM]*\n",
      "optimization finished, #iter = 237\n",
      "obj = -132.000003, rho = 1.000341\n",
      "nSV = 157, nBSV = 110\n",
      "Total nSV = 157\n",
      "*\n",
      "optimization finished, #iter = 192\n",
      "obj = -129.999994, rho = 1.000116\n",
      "nSV = 161, nBSV = 113\n",
      "Total nSV = 161\n",
      "*\n",
      "optimization finished, #iter = 212\n",
      "obj = -125.999994, rho = 1.000345\n",
      "nSV = 155, nBSV = 116\n",
      "Total nSV = 155\n",
      "*\n",
      "optimization finished, #iter = 153\n",
      "obj = -113.999988, rho = 1.000143\n",
      "nSV = 142, nBSV = 93\n",
      "Total nSV = 142\n",
      "*\n",
      "optimization finished, #iter = 142\n",
      "obj = -116.000002, rho = 1.000224\n",
      "nSV = 143, nBSV = 98\n",
      "Total nSV = 143\n",
      "*\n",
      "optimization finished, #iter = 231\n"
     ]
    },
    {
     "name": "stderr",
     "output_type": "stream",
     "text": [
      "/opt/anaconda3/lib/python3.9/site-packages/sklearn/utils/validation.py:63: DataConversionWarning: A column-vector y was passed when a 1d array was expected. Please change the shape of y to (n_samples, ), for example using ravel().\n",
      "  return f(*args, **kwargs)\n"
     ]
    },
    {
     "data": {
      "text/plain": [
       "SVC(kernel='linear', probability=True, verbose=True)"
      ]
     },
     "execution_count": 233,
     "metadata": {},
     "output_type": "execute_result"
    },
    {
     "name": "stdout",
     "output_type": "stream",
     "text": [
      "obj = -153.999997, rho = -1.000033\n",
      "nSV = 185, nBSV = 132\n",
      "Total nSV = 185\n"
     ]
    }
   ],
   "source": [
    "svc.fit(xTrain,yTrain)"
   ]
  },
  {
   "cell_type": "code",
   "execution_count": 234,
   "id": "ecbb2132-ccd7-42c5-bdf1-0eada74057a5",
   "metadata": {},
   "outputs": [],
   "source": [
    "y_pred_svm=svc.predict(xTest)"
   ]
  },
  {
   "cell_type": "code",
   "execution_count": 235,
   "id": "97c342d7-1739-469d-aba9-9c5fc74ed48c",
   "metadata": {},
   "outputs": [
    {
     "name": "stdout",
     "output_type": "stream",
     "text": [
      "              precision    recall  f1-score   support\n",
      "\n",
      "           0       0.85      0.92      0.89       102\n",
      "           1       0.92      0.85      0.88       105\n",
      "\n",
      "    accuracy                           0.88       207\n",
      "   macro avg       0.89      0.88      0.88       207\n",
      "weighted avg       0.89      0.88      0.88       207\n",
      "\n"
     ]
    }
   ],
   "source": [
    "print(classification_report(yTest,y_pred_svm))"
   ]
  },
  {
   "cell_type": "code",
   "execution_count": 236,
   "id": "5d6fa226-e919-47cc-a3e5-06b6c0718bc8",
   "metadata": {},
   "outputs": [
    {
     "data": {
      "text/plain": [
       "<AxesSubplot:>"
      ]
     },
     "execution_count": 236,
     "metadata": {},
     "output_type": "execute_result"
    },
    {
     "data": {
      "image/png": "[encoded data removed]",
      "text/plain": [
       "<Figure size 432x288 with 2 Axes>"
      ]
     },
     "metadata": {
      "needs_background": "light"
     },
     "output_type": "display_data"
    }
   ],
   "source": [
    "\n",
    "sns.heatmap(confusion_matrix(yTest,y_pred_svm),annot=True)"
   ]
  },
  {
   "cell_type": "code",
   "execution_count": 237,
   "id": "1658142a-a212-4fb5-88f4-53b0e118b1c8",
   "metadata": {},
   "outputs": [
    {
     "data": {
      "image/png": "[encoded data removed]",
      "text/plain": [
       "<Figure size 432x288 with 1 Axes>"
      ]
     },
     "metadata": {
      "needs_background": "light"
     },
     "output_type": "display_data"
    }
   ],
   "source": [
    "y_pred_proba_svm = svc.predict_proba(xTest)[::,1]\n",
    "fpr, tpr, _ = metrics.roc_curve(yTest,  y_pred_proba_svm)\n",
    "auc = metrics.roc_auc_score(yTest, y_pred_proba_svm)\n",
    "plt.plot(fpr,tpr,label=\"svm Clf, auc=\"+str(auc))\n",
    "plt.legend(loc=4)\n",
    "plt.show()"
   ]
  },
  {
   "cell_type": "code",
   "execution_count": 238,
   "id": "1b6ecefc-e05c-4ae7-ad86-c622dd427943",
   "metadata": {},
   "outputs": [],
   "source": [
    "result=store_results(\"SVM\",yTest,y_pred_svm,result)"
   ]
  },
  {
   "cell_type": "code",
   "execution_count": 239,
   "id": "d4635c78-d6a9-455a-9586-4a79a6fdc147",
   "metadata": {},
   "outputs": [],
   "source": [
    "y_pred_proba_svm = svc.predict_proba(xTest)[::,1]\n",
    "auc = metrics.roc_auc_score(yTest, y_pred_proba_svm)\n",
    "result.loc[result.model==\"SVM\",'auc']=auc*100"
   ]
  },
  {
   "cell_type": "code",
   "execution_count": 240,
   "id": "5fdff4f9-b981-4901-b392-dbb2d7dc3e5b",
   "metadata": {},
   "outputs": [
    {
     "data": {
      "text/html": [
       "<div>\n",
       "<style scoped>\n",
       "    .dataframe tbody tr th:only-of-type {\n",
       "        vertical-align: middle;\n",
       "    }\n",
       "\n",
       "    .dataframe tbody tr th {\n",
       "        vertical-align: top;\n",
       "    }\n",
       "\n",
       "    .dataframe thead th {\n",
       "        text-align: right;\n",
       "    }\n",
       "</style>\n",
       "<table border=\"1\" class=\"dataframe\">\n",
       "  <thead>\n",
       "    <tr style=\"text-align: right;\">\n",
       "      <th></th>\n",
       "      <th>model</th>\n",
       "      <th>accuracy</th>\n",
       "      <th>precision</th>\n",
       "      <th>recall</th>\n",
       "      <th>f1-score</th>\n",
       "      <th>auc</th>\n",
       "    </tr>\n",
       "  </thead>\n",
       "  <tbody>\n",
       "    <tr>\n",
       "      <th>0</th>\n",
       "      <td>Logistic</td>\n",
       "      <td>88.888889</td>\n",
       "      <td>88.679245</td>\n",
       "      <td>89.523810</td>\n",
       "      <td>89.099526</td>\n",
       "      <td>93.492063</td>\n",
       "    </tr>\n",
       "    <tr>\n",
       "      <th>0</th>\n",
       "      <td>GradientBoosting</td>\n",
       "      <td>86.473430</td>\n",
       "      <td>84.684685</td>\n",
       "      <td>89.523810</td>\n",
       "      <td>87.037037</td>\n",
       "      <td>NaN</td>\n",
       "    </tr>\n",
       "    <tr>\n",
       "      <th>0</th>\n",
       "      <td>GradienBoosting</td>\n",
       "      <td>86.473430</td>\n",
       "      <td>84.684685</td>\n",
       "      <td>89.523810</td>\n",
       "      <td>87.037037</td>\n",
       "      <td>93.445378</td>\n",
       "    </tr>\n",
       "    <tr>\n",
       "      <th>0</th>\n",
       "      <td>SVM</td>\n",
       "      <td>88.405797</td>\n",
       "      <td>91.752577</td>\n",
       "      <td>84.761905</td>\n",
       "      <td>88.118812</td>\n",
       "      <td>93.118581</td>\n",
       "    </tr>\n",
       "  </tbody>\n",
       "</table>\n",
       "</div>"
      ],
      "text/plain": [
       "              model   accuracy  precision     recall   f1-score        auc\n",
       "0          Logistic  88.888889  88.679245  89.523810  89.099526  93.492063\n",
       "0  GradientBoosting  86.473430  84.684685  89.523810  87.037037        NaN\n",
       "0   GradienBoosting  86.473430  84.684685  89.523810  87.037037  93.445378\n",
       "0               SVM  88.405797  91.752577  84.761905  88.118812  93.118581"
      ]
     },
     "execution_count": 240,
     "metadata": {},
     "output_type": "execute_result"
    }
   ],
   "source": [
    "result"
   ]
  },
  {
   "cell_type": "markdown",
   "id": "1f93498c-10bd-4f1e-a499-e82b1fc110a6",
   "metadata": {},
   "source": [
    "### Storing Models"
   ]
  },
  {
   "cell_type": "code",
   "execution_count": 241,
   "id": "719d31f4-be1d-4e4b-ad44-66823248c2a4",
   "metadata": {},
   "outputs": [],
   "source": [
    "import pickle\n",
    "# pickle.dump(pipe_svm, open('svm_singa.pkl', 'wb'))"
   ]
  },
  {
   "cell_type": "code",
   "execution_count": 242,
   "id": "e7597cc1-0b6e-475b-9229-8ac411a6e3df",
   "metadata": {},
   "outputs": [],
   "source": [
    "def loadPickle(path):\n",
    "    with open(path, \"rb\") as f:\n",
    "        return pickle.load(f) "
   ]
  },
  {
   "cell_type": "code",
   "execution_count": 243,
   "id": "d1e40106-1110-4e1e-a0c6-420e276cd785",
   "metadata": {},
   "outputs": [],
   "source": [
    "def dumpPickle(model,name):\n",
    "    pickle.dump(model, open(name+\".pkl\", 'wb'))"
   ]
  },
  {
   "cell_type": "code",
   "execution_count": null,
   "id": "6e63a4b6-0df6-4ed8-abb3-626d7ed0770c",
   "metadata": {},
   "outputs": [],
   "source": []
  },
  {
   "cell_type": "code",
   "execution_count": null,
   "id": "3b405975-b7bc-44a7-96f7-d1ee2c3a5d48",
   "metadata": {},
   "outputs": [],
   "source": []
  },
  {
   "cell_type": "code",
   "execution_count": 246,
   "id": "d45f8ef9-c058-4dee-8943-c884ff6c09a9",
   "metadata": {},
   "outputs": [],
   "source": [
    "from sklearn import model_selection"
   ]
  },
  {
   "cell_type": "code",
   "execution_count": 247,
   "id": "77b771ba-7836-4d50-9cdd-e79d953e29a0",
   "metadata": {},
   "outputs": [],
   "source": [
    "credit_card_dataset['k-fold']=-1"
   ]
  },
  {
   "cell_type": "code",
   "execution_count": 248,
   "id": "5097a5da-257b-46fc-8b47-ff49fa8d5d7a",
   "metadata": {},
   "outputs": [],
   "source": [
    "credit_card_dataset = credit_card_dataset.sample(frac=1).reset_index(drop=True)"
   ]
  },
  {
   "cell_type": "code",
   "execution_count": 249,
   "id": "654fd6c0-9320-4500-bce1-ff871da22f0c",
   "metadata": {},
   "outputs": [
    {
     "data": {
      "text/html": [
       "<div>\n",
       "<style scoped>\n",
       "    .dataframe tbody tr th:only-of-type {\n",
       "        vertical-align: middle;\n",
       "    }\n",
       "\n",
       "    .dataframe tbody tr th {\n",
       "        vertical-align: top;\n",
       "    }\n",
       "\n",
       "    .dataframe thead th {\n",
       "        text-align: right;\n",
       "    }\n",
       "</style>\n",
       "<table border=\"1\" class=\"dataframe\">\n",
       "  <thead>\n",
       "    <tr style=\"text-align: right;\">\n",
       "      <th></th>\n",
       "      <th>Unnamed: 0</th>\n",
       "      <th>Gender</th>\n",
       "      <th>Age</th>\n",
       "      <th>Debt</th>\n",
       "      <th>Married</th>\n",
       "      <th>Bank Customer</th>\n",
       "      <th>Education</th>\n",
       "      <th>Ethnicity</th>\n",
       "      <th>Years Employed</th>\n",
       "      <th>Prior Default</th>\n",
       "      <th>...</th>\n",
       "      <th>Married_encoded</th>\n",
       "      <th>Bank Customer_encoded</th>\n",
       "      <th>Education_encoded</th>\n",
       "      <th>Ethnicity_encoded</th>\n",
       "      <th>Prior Default_encoded</th>\n",
       "      <th>Employed_encoded</th>\n",
       "      <th>Driving License_encoded</th>\n",
       "      <th>Citizenship_encoded</th>\n",
       "      <th>Approved_encoded</th>\n",
       "      <th>k-fold</th>\n",
       "    </tr>\n",
       "  </thead>\n",
       "  <tbody>\n",
       "    <tr>\n",
       "      <th>0</th>\n",
       "      <td>645</td>\n",
       "      <td>0</td>\n",
       "      <td>0.486449</td>\n",
       "      <td>-0.420887</td>\n",
       "      <td>0</td>\n",
       "      <td>0</td>\n",
       "      <td>4</td>\n",
       "      <td>0</td>\n",
       "      <td>-0.615536</td>\n",
       "      <td>1</td>\n",
       "      <td>...</td>\n",
       "      <td>1</td>\n",
       "      <td>0</td>\n",
       "      <td>2</td>\n",
       "      <td>7</td>\n",
       "      <td>0</td>\n",
       "      <td>0</td>\n",
       "      <td>1</td>\n",
       "      <td>0</td>\n",
       "      <td>1</td>\n",
       "      <td>-1</td>\n",
       "    </tr>\n",
       "    <tr>\n",
       "      <th>1</th>\n",
       "      <td>153</td>\n",
       "      <td>0</td>\n",
       "      <td>-0.716623</td>\n",
       "      <td>-0.454056</td>\n",
       "      <td>0</td>\n",
       "      <td>0</td>\n",
       "      <td>6</td>\n",
       "      <td>0</td>\n",
       "      <td>-0.340423</td>\n",
       "      <td>0</td>\n",
       "      <td>...</td>\n",
       "      <td>1</td>\n",
       "      <td>0</td>\n",
       "      <td>1</td>\n",
       "      <td>7</td>\n",
       "      <td>1</td>\n",
       "      <td>1</td>\n",
       "      <td>1</td>\n",
       "      <td>0</td>\n",
       "      <td>0</td>\n",
       "      <td>-1</td>\n",
       "    </tr>\n",
       "    <tr>\n",
       "      <th>2</th>\n",
       "      <td>403</td>\n",
       "      <td>1</td>\n",
       "      <td>-0.751238</td>\n",
       "      <td>-0.889271</td>\n",
       "      <td>0</td>\n",
       "      <td>0</td>\n",
       "      <td>1</td>\n",
       "      <td>0</td>\n",
       "      <td>-0.440600</td>\n",
       "      <td>1</td>\n",
       "      <td>...</td>\n",
       "      <td>1</td>\n",
       "      <td>0</td>\n",
       "      <td>10</td>\n",
       "      <td>7</td>\n",
       "      <td>0</td>\n",
       "      <td>0</td>\n",
       "      <td>0</td>\n",
       "      <td>2</td>\n",
       "      <td>1</td>\n",
       "      <td>-1</td>\n",
       "    </tr>\n",
       "    <tr>\n",
       "      <th>3</th>\n",
       "      <td>11</td>\n",
       "      <td>0</td>\n",
       "      <td>-0.139149</td>\n",
       "      <td>-0.587736</td>\n",
       "      <td>0</td>\n",
       "      <td>0</td>\n",
       "      <td>6</td>\n",
       "      <td>1</td>\n",
       "      <td>0.631441</td>\n",
       "      <td>0</td>\n",
       "      <td>...</td>\n",
       "      <td>1</td>\n",
       "      <td>0</td>\n",
       "      <td>1</td>\n",
       "      <td>3</td>\n",
       "      <td>1</td>\n",
       "      <td>0</td>\n",
       "      <td>0</td>\n",
       "      <td>0</td>\n",
       "      <td>0</td>\n",
       "      <td>-1</td>\n",
       "    </tr>\n",
       "    <tr>\n",
       "      <th>4</th>\n",
       "      <td>504</td>\n",
       "      <td>1</td>\n",
       "      <td>-0.237927</td>\n",
       "      <td>-0.202777</td>\n",
       "      <td>0</td>\n",
       "      <td>0</td>\n",
       "      <td>6</td>\n",
       "      <td>0</td>\n",
       "      <td>-0.340423</td>\n",
       "      <td>0</td>\n",
       "      <td>...</td>\n",
       "      <td>1</td>\n",
       "      <td>0</td>\n",
       "      <td>1</td>\n",
       "      <td>7</td>\n",
       "      <td>1</td>\n",
       "      <td>1</td>\n",
       "      <td>1</td>\n",
       "      <td>0</td>\n",
       "      <td>0</td>\n",
       "      <td>-1</td>\n",
       "    </tr>\n",
       "    <tr>\n",
       "      <th>...</th>\n",
       "      <td>...</td>\n",
       "      <td>...</td>\n",
       "      <td>...</td>\n",
       "      <td>...</td>\n",
       "      <td>...</td>\n",
       "      <td>...</td>\n",
       "      <td>...</td>\n",
       "      <td>...</td>\n",
       "      <td>...</td>\n",
       "      <td>...</td>\n",
       "      <td>...</td>\n",
       "      <td>...</td>\n",
       "      <td>...</td>\n",
       "      <td>...</td>\n",
       "      <td>...</td>\n",
       "      <td>...</td>\n",
       "      <td>...</td>\n",
       "      <td>...</td>\n",
       "      <td>...</td>\n",
       "      <td>...</td>\n",
       "      <td>...</td>\n",
       "    </tr>\n",
       "    <tr>\n",
       "      <th>685</th>\n",
       "      <td>96</td>\n",
       "      <td>0</td>\n",
       "      <td>-0.723377</td>\n",
       "      <td>-0.830974</td>\n",
       "      <td>1</td>\n",
       "      <td>1</td>\n",
       "      <td>11</td>\n",
       "      <td>0</td>\n",
       "      <td>-0.627497</td>\n",
       "      <td>0</td>\n",
       "      <td>...</td>\n",
       "      <td>2</td>\n",
       "      <td>2</td>\n",
       "      <td>0</td>\n",
       "      <td>7</td>\n",
       "      <td>1</td>\n",
       "      <td>0</td>\n",
       "      <td>0</td>\n",
       "      <td>0</td>\n",
       "      <td>1</td>\n",
       "      <td>-1</td>\n",
       "    </tr>\n",
       "    <tr>\n",
       "      <th>686</th>\n",
       "      <td>38</td>\n",
       "      <td>0</td>\n",
       "      <td>-0.322353</td>\n",
       "      <td>-0.839015</td>\n",
       "      <td>1</td>\n",
       "      <td>1</td>\n",
       "      <td>4</td>\n",
       "      <td>0</td>\n",
       "      <td>-0.590118</td>\n",
       "      <td>0</td>\n",
       "      <td>...</td>\n",
       "      <td>2</td>\n",
       "      <td>2</td>\n",
       "      <td>2</td>\n",
       "      <td>7</td>\n",
       "      <td>1</td>\n",
       "      <td>1</td>\n",
       "      <td>0</td>\n",
       "      <td>0</td>\n",
       "      <td>0</td>\n",
       "      <td>-1</td>\n",
       "    </tr>\n",
       "    <tr>\n",
       "      <th>687</th>\n",
       "      <td>158</td>\n",
       "      <td>0</td>\n",
       "      <td>-0.301247</td>\n",
       "      <td>-0.554567</td>\n",
       "      <td>0</td>\n",
       "      <td>0</td>\n",
       "      <td>5</td>\n",
       "      <td>1</td>\n",
       "      <td>0.580605</td>\n",
       "      <td>0</td>\n",
       "      <td>...</td>\n",
       "      <td>1</td>\n",
       "      <td>0</td>\n",
       "      <td>8</td>\n",
       "      <td>3</td>\n",
       "      <td>1</td>\n",
       "      <td>1</td>\n",
       "      <td>1</td>\n",
       "      <td>0</td>\n",
       "      <td>0</td>\n",
       "      <td>-1</td>\n",
       "    </tr>\n",
       "    <tr>\n",
       "      <th>688</th>\n",
       "      <td>91</td>\n",
       "      <td>0</td>\n",
       "      <td>-0.012510</td>\n",
       "      <td>2.159244</td>\n",
       "      <td>0</td>\n",
       "      <td>0</td>\n",
       "      <td>6</td>\n",
       "      <td>0</td>\n",
       "      <td>-0.515359</td>\n",
       "      <td>0</td>\n",
       "      <td>...</td>\n",
       "      <td>1</td>\n",
       "      <td>0</td>\n",
       "      <td>1</td>\n",
       "      <td>7</td>\n",
       "      <td>1</td>\n",
       "      <td>0</td>\n",
       "      <td>0</td>\n",
       "      <td>0</td>\n",
       "      <td>1</td>\n",
       "      <td>-1</td>\n",
       "    </tr>\n",
       "    <tr>\n",
       "      <th>689</th>\n",
       "      <td>272</td>\n",
       "      <td>0</td>\n",
       "      <td>-1.138753</td>\n",
       "      <td>0.400292</td>\n",
       "      <td>1</td>\n",
       "      <td>1</td>\n",
       "      <td>2</td>\n",
       "      <td>0</td>\n",
       "      <td>-0.652915</td>\n",
       "      <td>1</td>\n",
       "      <td>...</td>\n",
       "      <td>2</td>\n",
       "      <td>2</td>\n",
       "      <td>9</td>\n",
       "      <td>7</td>\n",
       "      <td>0</td>\n",
       "      <td>0</td>\n",
       "      <td>0</td>\n",
       "      <td>0</td>\n",
       "      <td>1</td>\n",
       "      <td>-1</td>\n",
       "    </tr>\n",
       "  </tbody>\n",
       "</table>\n",
       "<p>690 rows × 28 columns</p>\n",
       "</div>"
      ],
      "text/plain": [
       "     Unnamed: 0  Gender       Age      Debt  Married  Bank Customer  \\\n",
       "0           645       0  0.486449 -0.420887        0              0   \n",
       "1           153       0 -0.716623 -0.454056        0              0   \n",
       "2           403       1 -0.751238 -0.889271        0              0   \n",
       "3            11       0 -0.139149 -0.587736        0              0   \n",
       "4           504       1 -0.237927 -0.202777        0              0   \n",
       "..          ...     ...       ...       ...      ...            ...   \n",
       "685          96       0 -0.723377 -0.830974        1              1   \n",
       "686          38       0 -0.322353 -0.839015        1              1   \n",
       "687         158       0 -0.301247 -0.554567        0              0   \n",
       "688          91       0 -0.012510  2.159244        0              0   \n",
       "689         272       0 -1.138753  0.400292        1              1   \n",
       "\n",
       "     Education  Ethnicity  Years Employed  Prior Default  ...  \\\n",
       "0            4          0       -0.615536              1  ...   \n",
       "1            6          0       -0.340423              0  ...   \n",
       "2            1          0       -0.440600              1  ...   \n",
       "3            6          1        0.631441              0  ...   \n",
       "4            6          0       -0.340423              0  ...   \n",
       "..         ...        ...             ...            ...  ...   \n",
       "685         11          0       -0.627497              0  ...   \n",
       "686          4          0       -0.590118              0  ...   \n",
       "687          5          1        0.580605              0  ...   \n",
       "688          6          0       -0.515359              0  ...   \n",
       "689          2          0       -0.652915              1  ...   \n",
       "\n",
       "     Married_encoded  Bank Customer_encoded  Education_encoded  \\\n",
       "0                  1                      0                  2   \n",
       "1                  1                      0                  1   \n",
       "2                  1                      0                 10   \n",
       "3                  1                      0                  1   \n",
       "4                  1                      0                  1   \n",
       "..               ...                    ...                ...   \n",
       "685                2                      2                  0   \n",
       "686                2                      2                  2   \n",
       "687                1                      0                  8   \n",
       "688                1                      0                  1   \n",
       "689                2                      2                  9   \n",
       "\n",
       "     Ethnicity_encoded  Prior Default_encoded  Employed_encoded  \\\n",
       "0                    7                      0                 0   \n",
       "1                    7                      1                 1   \n",
       "2                    7                      0                 0   \n",
       "3                    3                      1                 0   \n",
       "4                    7                      1                 1   \n",
       "..                 ...                    ...               ...   \n",
       "685                  7                      1                 0   \n",
       "686                  7                      1                 1   \n",
       "687                  3                      1                 1   \n",
       "688                  7                      1                 0   \n",
       "689                  7                      0                 0   \n",
       "\n",
       "     Driving License_encoded  Citizenship_encoded  Approved_encoded  k-fold  \n",
       "0                          1                    0                 1      -1  \n",
       "1                          1                    0                 0      -1  \n",
       "2                          0                    2                 1      -1  \n",
       "3                          0                    0                 0      -1  \n",
       "4                          1                    0                 0      -1  \n",
       "..                       ...                  ...               ...     ...  \n",
       "685                        0                    0                 1      -1  \n",
       "686                        0                    0                 0      -1  \n",
       "687                        1                    0                 0      -1  \n",
       "688                        0                    0                 1      -1  \n",
       "689                        0                    0                 1      -1  \n",
       "\n",
       "[690 rows x 28 columns]"
      ]
     },
     "execution_count": 249,
     "metadata": {},
     "output_type": "execute_result"
    }
   ],
   "source": [
    "credit_card_dataset"
   ]
  },
  {
   "cell_type": "code",
   "execution_count": 250,
   "id": "4d8f081e-612e-4110-bb17-c84371e9ee3c",
   "metadata": {},
   "outputs": [],
   "source": [
    "kf=model_selection.KFold(n_splits=5)"
   ]
  },
  {
   "cell_type": "code",
   "execution_count": 256,
   "id": "5c5a0b08-8b75-4578-ab7b-986c7bd49455",
   "metadata": {
    "scrolled": true,
    "tags": []
   },
   "outputs": [
    {
     "name": "stdout",
     "output_type": "stream",
     "text": [
      "[  0   1   2   3   4   5   6   7   8   9  10  11  12  13  14  15  16  17\n",
      "  18  19  20  21  22  23  24  25  26  27  28  29  30  31  32  33  34  35\n",
      "  36  37  38  39  40  41  42  43  44  45  46  47  48  49  50  51  52  53\n",
      "  54  55  56  57  58  59  60  61  62  63  64  65  66  67  68  69  70  71\n",
      "  72  73  74  75  76  77  78  79  80  81  82  83  84  85  86  87  88  89\n",
      "  90  91  92  93  94  95  96  97  98  99 100 101 102 103 104 105 106 107\n",
      " 108 109 110 111 112 113 114 115 116 117 118 119 120 121 122 123 124 125\n",
      " 126 127 128 129 130 131 132 133 134 135 136 137]\n",
      "****************************************************************************************************\n",
      "0\n",
      "[138 139 140 141 142 143 144 145 146 147 148 149 150 151 152 153 154 155\n",
      " 156 157 158 159 160 161 162 163 164 165 166 167 168 169 170 171 172 173\n",
      " 174 175 176 177 178 179 180 181 182 183 184 185 186 187 188 189 190 191\n",
      " 192 193 194 195 196 197 198 199 200 201 202 203 204 205 206 207 208 209\n",
      " 210 211 212 213 214 215 216 217 218 219 220 221 222 223 224 225 226 227\n",
      " 228 229 230 231 232 233 234 235 236 237 238 239 240 241 242 243 244 245\n",
      " 246 247 248 249 250 251 252 253 254 255 256 257 258 259 260 261 262 263\n",
      " 264 265 266 267 268 269 270 271 272 273 274 275]\n",
      "****************************************************************************************************\n",
      "1\n",
      "[276 277 278 279 280 281 282 283 284 285 286 287 288 289 290 291 292 293\n",
      " 294 295 296 297 298 299 300 301 302 303 304 305 306 307 308 309 310 311\n",
      " 312 313 314 315 316 317 318 319 320 321 322 323 324 325 326 327 328 329\n",
      " 330 331 332 333 334 335 336 337 338 339 340 341 342 343 344 345 346 347\n",
      " 348 349 350 351 352 353 354 355 356 357 358 359 360 361 362 363 364 365\n",
      " 366 367 368 369 370 371 372 373 374 375 376 377 378 379 380 381 382 383\n",
      " 384 385 386 387 388 389 390 391 392 393 394 395 396 397 398 399 400 401\n",
      " 402 403 404 405 406 407 408 409 410 411 412 413]\n",
      "****************************************************************************************************\n",
      "2\n",
      "[414 415 416 417 418 419 420 421 422 423 424 425 426 427 428 429 430 431\n",
      " 432 433 434 435 436 437 438 439 440 441 442 443 444 445 446 447 448 449\n",
      " 450 451 452 453 454 455 456 457 458 459 460 461 462 463 464 465 466 467\n",
      " 468 469 470 471 472 473 474 475 476 477 478 479 480 481 482 483 484 485\n",
      " 486 487 488 489 490 491 492 493 494 495 496 497 498 499 500 501 502 503\n",
      " 504 505 506 507 508 509 510 511 512 513 514 515 516 517 518 519 520 521\n",
      " 522 523 524 525 526 527 528 529 530 531 532 533 534 535 536 537 538 539\n",
      " 540 541 542 543 544 545 546 547 548 549 550 551]\n",
      "****************************************************************************************************\n",
      "3\n",
      "[552 553 554 555 556 557 558 559 560 561 562 563 564 565 566 567 568 569\n",
      " 570 571 572 573 574 575 576 577 578 579 580 581 582 583 584 585 586 587\n",
      " 588 589 590 591 592 593 594 595 596 597 598 599 600 601 602 603 604 605\n",
      " 606 607 608 609 610 611 612 613 614 615 616 617 618 619 620 621 622 623\n",
      " 624 625 626 627 628 629 630 631 632 633 634 635 636 637 638 639 640 641\n",
      " 642 643 644 645 646 647 648 649 650 651 652 653 654 655 656 657 658 659\n",
      " 660 661 662 663 664 665 666 667 668 669 670 671 672 673 674 675 676 677\n",
      " 678 679 680 681 682 683 684 685 686 687 688 689]\n",
      "****************************************************************************************************\n",
      "4\n"
     ]
    }
   ],
   "source": [
    "for fold,(trn_,val_) in enumerate(kf.split(X=credit_card_dataset)):\n",
    "    print(val_)\n",
    "    print(\"*\"*100)\n",
    "    print(fold)\n",
    "    credit_card_dataset.loc[val_,'k-fold'] = fold"
   ]
  },
  {
   "cell_type": "code",
   "execution_count": 269,
   "id": "9c685121-001a-400f-afd6-0478a0a726d3",
   "metadata": {},
   "outputs": [],
   "source": [
    "train=credit_card_dataset[credit_card_dataset['k-fold']!=1]"
   ]
  },
  {
   "cell_type": "code",
   "execution_count": 270,
   "id": "9627532b-fd43-4b28-bdad-161e44559de4",
   "metadata": {},
   "outputs": [],
   "source": [
    "test=credit_card_dataset[credit_card_dataset['k-fold']==1]"
   ]
  },
  {
   "cell_type": "code",
   "execution_count": 271,
   "id": "12aa0e11-a8ad-475b-a3ef-a96b4b5176e2",
   "metadata": {},
   "outputs": [],
   "source": [
    "from sklearn.ensemble import GradientBoostingClassifier\n",
    "\n",
    "clf_ = GradientBoostingClassifier(random_state=0)\n",
    "clf_.fit(train[final_features], train['Approved'])\n",
    "\n",
    "testPred_ = clf.predict(test[final_features])"
   ]
  },
  {
   "cell_type": "code",
   "execution_count": 272,
   "id": "6518725a-cccb-494d-a620-d89733b184a9",
   "metadata": {},
   "outputs": [
    {
     "name": "stdout",
     "output_type": "stream",
     "text": [
      "              precision    recall  f1-score   support\n",
      "\n",
      "           0       0.98      0.97      0.97        59\n",
      "           1       0.97      0.99      0.98        79\n",
      "\n",
      "    accuracy                           0.98       138\n",
      "   macro avg       0.98      0.98      0.98       138\n",
      "weighted avg       0.98      0.98      0.98       138\n",
      "\n"
     ]
    },
    {
     "data": {
      "text/plain": [
       "<AxesSubplot:>"
      ]
     },
     "execution_count": 272,
     "metadata": {},
     "output_type": "execute_result"
    },
    {
     "data": {
      "image/png": "[encoded data removed]",
      "text/plain": [
       "<Figure size 432x288 with 2 Axes>"
      ]
     },
     "metadata": {
      "needs_background": "light"
     },
     "output_type": "display_data"
    }
   ],
   "source": [
    "from sklearn.metrics import classification_report\n",
    "print(classification_report(test['Approved'],testPred_))\n",
    "sns.heatmap(confusion_matrix(test['Approved'],testPred_),annot=True)"
   ]
  },
  {
   "cell_type": "code",
   "execution_count": null,
   "id": "45dbbde3-57a8-47c5-9f65-a224a736676e",
   "metadata": {},
   "outputs": [],
   "source": []
  }
 ],
 "metadata": {
  "kernelspec": {
   "display_name": "Python 3.10.4 ('GSU-2022')",
   "language": "python",
   "name": "python3"
  },
  "language_info": {
   "codemirror_mode": {
    "name": "ipython",
    "version": 3
   },
   "file_extension": ".py",
   "mimetype": "text/x-python",
   "name": "python",
   "nbconvert_exporter": "python",
   "pygments_lexer": "ipython3",
   "version": "3.10.4"
  },
  "vscode": {
   "interpreter": {
    "hash": "54ed585dbc473c1c3b30167dc71cc5c2fcfd166c6a2fddbe687581755efb1c10"
   }
  }
 },
 "nbformat": 4,
 "nbformat_minor": 5
}
